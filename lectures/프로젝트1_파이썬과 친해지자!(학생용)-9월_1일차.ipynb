{
 "cells": [
  {
   "cell_type": "markdown",
   "metadata": {},
   "source": [
    "---\n",
    "\n",
    "코드를 작성 후 \"Shift+Enter\"을 누르거나, 셀 왼쪽의 삼각형을 클릭하면 코드가 실행된다. \n",
    "\n",
    "---"
   ]
  },
  {
   "cell_type": "markdown",
   "metadata": {},
   "source": [
    "# 수의 표현\n",
    "\n",
    "| 함수 |  활용법 | 설명 |\n",
    "|:----:|:---:|:----:|\n",
    "|int| int(수) | 입력수의 정수 출력  |\n",
    "| float| float(수) |  입력수의 실수 출력  | \n",
    "\n",
    "---\n",
    "\n",
    "**예제1** 다음을 출력하여라.\n",
    "\n",
    "(1) 3.2의 정수"
   ]
  },
  {
   "cell_type": "code",
   "execution_count": null,
   "metadata": {
    "ExecuteTime": {
     "end_time": "2021-08-18T07:44:45.902553Z",
     "start_time": "2021-08-18T07:44:45.882607Z"
    }
   },
   "outputs": [],
   "source": []
  },
  {
   "cell_type": "markdown",
   "metadata": {},
   "source": [
    "(2) 3.2의 실수"
   ]
  },
  {
   "cell_type": "code",
   "execution_count": null,
   "metadata": {
    "ExecuteTime": {
     "end_time": "2021-08-18T07:44:45.965384Z",
     "start_time": "2021-08-18T07:44:45.953418Z"
    }
   },
   "outputs": [],
   "source": []
  },
  {
   "cell_type": "markdown",
   "metadata": {},
   "source": [
    "**문제1** 다음을 출력하여라. \n",
    "\n",
    "(1) 4.8의 정수"
   ]
  },
  {
   "cell_type": "code",
   "execution_count": null,
   "metadata": {
    "ExecuteTime": {
     "end_time": "2021-08-18T07:44:46.045170Z",
     "start_time": "2021-08-18T07:44:46.027220Z"
    }
   },
   "outputs": [],
   "source": []
  },
  {
   "cell_type": "markdown",
   "metadata": {},
   "source": [
    "(2) 4.8의 실수"
   ]
  },
  {
   "cell_type": "code",
   "execution_count": null,
   "metadata": {
    "ExecuteTime": {
     "end_time": "2021-08-18T07:44:46.108091Z",
     "start_time": "2021-08-18T07:44:46.093073Z"
    }
   },
   "outputs": [],
   "source": []
  },
  {
   "cell_type": "markdown",
   "metadata": {},
   "source": [
    "#  수의 연산\n",
    "\n",
    "| 연산 |  활용법 | 설명 |\n",
    "|:----:|:---:|:----:|\n",
    "| + | a + b | a 더하기 b   |\n",
    "| - | a - b |  a 빼기 b   | \n",
    "| * | a * b | a 곱하기 b  | \n",
    "| / | a / b | a 나누기 b  | \n",
    "| ** | a ** b | a 의 b 제곱 |\n",
    "| // | a // b | a를 b로 나눈 몫 |\n",
    "| % | a % b | a를 b로 나눈 나머지 |\n",
    "\n",
    "---\n",
    "\n",
    "**예제2** 7 더하기 8을 구하여라."
   ]
  },
  {
   "cell_type": "code",
   "execution_count": null,
   "metadata": {
    "ExecuteTime": {
     "end_time": "2021-08-18T07:44:46.171898Z",
     "start_time": "2021-08-18T07:44:46.159894Z"
    }
   },
   "outputs": [],
   "source": []
  },
  {
   "cell_type": "markdown",
   "metadata": {},
   "source": [
    "**문제2** 다음을 코드로 작성하여라.\n",
    "\n",
    "(1) 5 나누기 2를 구하여라. "
   ]
  },
  {
   "cell_type": "code",
   "execution_count": null,
   "metadata": {
    "ExecuteTime": {
     "end_time": "2021-08-18T07:44:46.235692Z",
     "start_time": "2021-08-18T07:44:46.225749Z"
    }
   },
   "outputs": [],
   "source": []
  },
  {
   "cell_type": "markdown",
   "metadata": {},
   "source": [
    "(2) 5를 2로 나눈 몫을 구하여라. "
   ]
  },
  {
   "cell_type": "code",
   "execution_count": null,
   "metadata": {
    "ExecuteTime": {
     "end_time": "2021-08-18T07:44:46.299576Z",
     "start_time": "2021-08-18T07:44:46.289549Z"
    }
   },
   "outputs": [],
   "source": []
  },
  {
   "cell_type": "markdown",
   "metadata": {},
   "source": [
    "# 라이브러리\n",
    "\n",
    "파이썬에 유용한 프로그램을 모아둔 둔것이 라이브러리이다. \n",
    "\n",
    "| 함수  |  활용법 | 설명 |\n",
    "|:----:|:---:| :---:|\n",
    "| import | import 라이브러리 | 라이브러리를 불러온다. |\n",
    "| import A as B | import 라이브러리 as 문자 | 라이브러리를 불러와서 해당 문자라 둔다. |  \n",
    "| from A import B | from 라이브러리 import 함수(as 문자) | 라이브러리에서 특정 함수를 불러온다. (해당 문자라 둔다.) |\n",
    "\n",
    "\n",
    "---\n",
    "\n",
    "**예제3**  numpy를 불러와서 np라 하여라. 여기서 numpy는 수치계산을 위해 제공되는 라이브러리이다. "
   ]
  },
  {
   "cell_type": "code",
   "execution_count": null,
   "metadata": {
    "ExecuteTime": {
     "end_time": "2021-08-18T07:44:46.538879Z",
     "start_time": "2021-08-18T07:44:46.355371Z"
    }
   },
   "outputs": [],
   "source": []
  },
  {
   "cell_type": "markdown",
   "metadata": {},
   "source": [
    "# 어림하기\n",
    "\n",
    "| 함수 |  활용법 | 설명 |\n",
    "|:----:|:---:|:----:|\n",
    "| round | np.round(수) | 수를 반올림한다. |\n",
    "| ceil | np.ceil(수) |  수를 올림한다.  | \n",
    "| floor | np.floor(수) | 수를 내림한다.  | \n",
    "\n",
    "---\n",
    "\n",
    "**예제4** 다음을 코드로 작성하여라. \n",
    "\n",
    "(1) 4.8을 반올림하여라."
   ]
  },
  {
   "cell_type": "code",
   "execution_count": null,
   "metadata": {
    "ExecuteTime": {
     "end_time": "2021-08-18T07:44:46.554836Z",
     "start_time": "2021-08-18T07:44:46.542869Z"
    }
   },
   "outputs": [],
   "source": []
  },
  {
   "cell_type": "markdown",
   "metadata": {},
   "source": [
    "(2) -2.8을 올림하여라. "
   ]
  },
  {
   "cell_type": "code",
   "execution_count": null,
   "metadata": {
    "ExecuteTime": {
     "end_time": "2021-08-18T07:44:46.570794Z",
     "start_time": "2021-08-18T07:44:46.557828Z"
    }
   },
   "outputs": [],
   "source": []
  },
  {
   "cell_type": "markdown",
   "metadata": {},
   "source": [
    "**문제3** 다음을 코드로 작성하여라. \n",
    "\n",
    "(1) 12.6을 올림하여라. "
   ]
  },
  {
   "cell_type": "code",
   "execution_count": null,
   "metadata": {
    "ExecuteTime": {
     "end_time": "2021-08-18T07:44:46.602711Z",
     "start_time": "2021-08-18T07:44:46.596728Z"
    }
   },
   "outputs": [],
   "source": []
  },
  {
   "cell_type": "markdown",
   "metadata": {},
   "source": [
    "(2) -3.2를 내림하여라. "
   ]
  },
  {
   "cell_type": "code",
   "execution_count": null,
   "metadata": {
    "ExecuteTime": {
     "end_time": "2021-08-18T07:44:46.681531Z",
     "start_time": "2021-08-18T07:44:46.663547Z"
    }
   },
   "outputs": [],
   "source": []
  },
  {
   "cell_type": "markdown",
   "metadata": {},
   "source": [
    "# print 함수\n",
    "\n",
    "| 함수 | 활용법 |\n",
    "| :---:| :---:  | \n",
    "| print | print(출력할 내용1, 출력할 내용2, $\\cdots$, 출력할 내용n) | \n",
    "\n",
    "> 문자열 출력시 따옴표를 활용한다.작은따옴표, 큰따옴표 둘다 사용가능하다  \n",
    "> print 함수 내에서 연산이 가능하다.  \n",
    "\n",
    "---\n",
    "\n",
    "**예제5** print함수로 다음을 출력하여라.\n",
    "\n",
    "(1) ‘안녕’ "
   ]
  },
  {
   "cell_type": "code",
   "execution_count": null,
   "metadata": {
    "ExecuteTime": {
     "end_time": "2021-08-18T07:44:46.744602Z",
     "start_time": "2021-08-18T07:44:46.728647Z"
    }
   },
   "outputs": [],
   "source": []
  },
  {
   "cell_type": "markdown",
   "metadata": {},
   "source": [
    "(2) 3더하기 2는 5이다. 단, 5는 직접 입력하지 않고, 연산 함수를 활용하여라. "
   ]
  },
  {
   "cell_type": "code",
   "execution_count": null,
   "metadata": {
    "ExecuteTime": {
     "end_time": "2021-08-18T07:44:46.808431Z",
     "start_time": "2021-08-18T07:44:46.797461Z"
    }
   },
   "outputs": [],
   "source": []
  },
  {
   "cell_type": "markdown",
   "metadata": {},
   "source": [
    "**문제4** print함수로 다음을 출력하여라. 단, 81, 89, 38은 직접입력하지 않고, 연산함수를 활용하여라. \n",
    "\n",
    "(1) 3의 4제곱은 81이다."
   ]
  },
  {
   "cell_type": "code",
   "execution_count": null,
   "metadata": {
    "ExecuteTime": {
     "end_time": "2021-08-18T07:44:46.872264Z",
     "start_time": "2021-08-18T07:44:46.866279Z"
    }
   },
   "outputs": [],
   "source": []
  },
  {
   "cell_type": "markdown",
   "metadata": {},
   "source": [
    "(2) 89.42의 정수는 89이다."
   ]
  },
  {
   "cell_type": "code",
   "execution_count": null,
   "metadata": {
    "ExecuteTime": {
     "end_time": "2021-08-18T07:44:46.951084Z",
     "start_time": "2021-08-18T07:44:46.934096Z"
    }
   },
   "outputs": [],
   "source": []
  },
  {
   "cell_type": "markdown",
   "metadata": {},
   "source": [
    "(3) 38.4을 내림하면 38이다. "
   ]
  },
  {
   "cell_type": "code",
   "execution_count": null,
   "metadata": {
    "ExecuteTime": {
     "end_time": "2021-08-18T07:44:47.013888Z",
     "start_time": "2021-08-18T07:44:46.999922Z"
    }
   },
   "outputs": [],
   "source": []
  },
  {
   "cell_type": "markdown",
   "metadata": {},
   "source": [
    "#  변수\n",
    "\n",
    "| 함수 | 설명 |\n",
    "| :---:| :---:  |\n",
    "| a = x | x를 a라 하자 |\n",
    "| a, b = x, y | x를 a, y를 b라 하자 |\n",
    "\n",
    "---\n",
    "\n",
    "**예제6** 다음을 코드로 작성하여라.\n",
    "\n",
    "(1) 7을 x라 하고 x를 확인하여라."
   ]
  },
  {
   "cell_type": "code",
   "execution_count": null,
   "metadata": {
    "ExecuteTime": {
     "end_time": "2021-08-18T07:44:47.075718Z",
     "start_time": "2021-08-18T07:44:47.065748Z"
    }
   },
   "outputs": [],
   "source": []
  },
  {
   "cell_type": "markdown",
   "metadata": {},
   "source": [
    "(2) 8을 x, 5를 y라 하고 x, y을 확인하여라."
   ]
  },
  {
   "cell_type": "code",
   "execution_count": null,
   "metadata": {
    "ExecuteTime": {
     "end_time": "2021-08-18T07:44:47.139553Z",
     "start_time": "2021-08-18T07:44:47.133565Z"
    }
   },
   "outputs": [],
   "source": []
  },
  {
   "cell_type": "code",
   "execution_count": null,
   "metadata": {
    "ExecuteTime": {
     "end_time": "2021-08-18T07:44:47.187419Z",
     "start_time": "2021-08-18T07:44:47.178443Z"
    }
   },
   "outputs": [],
   "source": []
  },
  {
   "cell_type": "code",
   "execution_count": null,
   "metadata": {
    "ExecuteTime": {
     "end_time": "2021-08-18T07:44:47.234326Z",
     "start_time": "2021-08-18T07:44:47.223325Z"
    }
   },
   "outputs": [],
   "source": []
  },
  {
   "cell_type": "markdown",
   "metadata": {},
   "source": [
    "# 리스트 \n",
    "\n",
    "> 파이썬에서 자료(문자 혹은 숫자)를 정리할 수 있는 자료구조에는 리스트, 튜플 등이 있다.\n",
    ">\n",
    "\n",
    "| 구분 | 특징 | 표현방법 | 예 |\n",
    "|:---: | :---: | :---: | :---: | \n",
    "| 리스트 | 자료를 순서대로 정리 한다 | [ ]를 사용, 쉼표로 각 원소를 구분 | [1, 2, 2] |\n",
    "| 튜플 | 자료를 순서대로 정리한다. 단 한번 생성된 값은 변형 불가하다 | ( )를 사용,쉼표로 각 원소를 구분 | (1, 2, 2 ) |\n",
    "\n",
    "\n",
    "> 리스트의 활용법은 다음과 같다. \n",
    "\n",
    "\n",
    "| 활용법 | 설명 | \n",
    "| :---:|  :---: |\n",
    "| list(데이터) | 데이터를 리스트로 바꾼다 |  \n",
    "| 리스트.append(값) | 리스트의 마지막에 값을 추가한다 | \n",
    "| 리스트1 + 리스트2 | 리스트1과 리스트 2를 합친다 |\n",
    "| sum(리스트) | 리스트의 원소가 모두 수일때 리스트의 수를 더한다 |\n",
    "\n",
    "\n",
    "**예제7** 다음을 코드로 작성하여라.  \n",
    "\n",
    "(1) '39, 2, -5, 사과'인 리스트를 a라 하고, '29, -3, 5, 7'인 리스트를 b라 하고 a와 b를 각각 출력하여라. "
   ]
  },
  {
   "cell_type": "code",
   "execution_count": null,
   "metadata": {
    "ExecuteTime": {
     "end_time": "2021-08-18T07:44:47.298122Z",
     "start_time": "2021-08-18T07:44:47.293139Z"
    }
   },
   "outputs": [],
   "source": []
  },
  {
   "cell_type": "markdown",
   "metadata": {},
   "source": [
    "(2) 리스트 a에 '배'를 추가하고 이를 확인하여라."
   ]
  },
  {
   "cell_type": "code",
   "execution_count": null,
   "metadata": {
    "ExecuteTime": {
     "end_time": "2021-08-18T07:44:47.376972Z",
     "start_time": "2021-08-18T07:44:47.360956Z"
    }
   },
   "outputs": [],
   "source": []
  },
  {
   "cell_type": "markdown",
   "metadata": {},
   "source": [
    "(3) 리스트 a와 b를 하나로 합하여라."
   ]
  },
  {
   "cell_type": "code",
   "execution_count": null,
   "metadata": {
    "ExecuteTime": {
     "end_time": "2021-08-18T07:44:47.440782Z",
     "start_time": "2021-08-18T07:44:47.428773Z"
    }
   },
   "outputs": [],
   "source": []
  },
  {
   "cell_type": "markdown",
   "metadata": {},
   "source": [
    "(4) 리스트 b의 원소를 모두 더하여라."
   ]
  },
  {
   "cell_type": "code",
   "execution_count": null,
   "metadata": {
    "ExecuteTime": {
     "end_time": "2021-08-18T07:44:47.503588Z",
     "start_time": "2021-08-18T07:44:47.495594Z"
    }
   },
   "outputs": [],
   "source": []
  },
  {
   "cell_type": "markdown",
   "metadata": {},
   "source": [
    "# range 함수\n",
    "\n",
    " | 활용법 | 설명 |\n",
    "| :---:  | :---:  |\n",
    "| range(n) | 0 이상 n 미만의 값을 생성한다. |\n",
    "|  range(a, b) | a 이상 b 미만의 값을 생성한다. |\n",
    "|  range(a, b, c) | a 이상 b 미만의 값을 c 간격으로 생성한다. |\n",
    "\n",
    "> 이때, c는 음수도 가능한다. \n",
    ">\n",
    "> 만약 c가 음수라면 a 이하 b초과의 값 중 c간격으로 생성한다.  \n",
    ">\n",
    "> 예를 들어, range(10, 2, -1)은 10, 9, $\\cdots$ , 4, 3을 생성한다.  \n",
    "---\n",
    "\n",
    "**예제8** 다음의 코드를 작성하여라. \n",
    "\n",
    "(1) 0, 1, 2, 3, 4를 range를 이용하여 생성하여라. "
   ]
  },
  {
   "cell_type": "code",
   "execution_count": null,
   "metadata": {
    "ExecuteTime": {
     "end_time": "2021-08-18T07:44:47.582370Z",
     "start_time": "2021-08-18T07:44:47.564412Z"
    }
   },
   "outputs": [],
   "source": []
  },
  {
   "cell_type": "markdown",
   "metadata": {},
   "source": [
    "(2) 리스트를 이용하여 (1)의 값을 출력해보아라. "
   ]
  },
  {
   "cell_type": "code",
   "execution_count": null,
   "metadata": {
    "ExecuteTime": {
     "end_time": "2021-08-18T07:44:47.646257Z",
     "start_time": "2021-08-18T07:44:47.629238Z"
    }
   },
   "outputs": [],
   "source": []
  },
  {
   "cell_type": "markdown",
   "metadata": {},
   "source": [
    "(3) 1과 10사이의 홀수를 리스트로 출력하여라."
   ]
  },
  {
   "cell_type": "code",
   "execution_count": null,
   "metadata": {
    "ExecuteTime": {
     "end_time": "2021-08-18T07:44:47.709024Z",
     "start_time": "2021-08-18T07:44:47.698053Z"
    }
   },
   "outputs": [],
   "source": []
  },
  {
   "cell_type": "markdown",
   "metadata": {},
   "source": [
    "**문제5** 다음의 코드를 작성하여라. \n",
    "\n",
    "(1) 1과 20사이의 3의 배수를 리스트로 출력하여라. "
   ]
  },
  {
   "cell_type": "code",
   "execution_count": null,
   "metadata": {
    "ExecuteTime": {
     "end_time": "2021-08-18T07:44:47.787813Z",
     "start_time": "2021-08-18T07:44:47.767869Z"
    }
   },
   "outputs": [],
   "source": []
  },
  {
   "cell_type": "markdown",
   "metadata": {},
   "source": [
    "(2) 10과 1사이의 짝수(10, 8, 6, 4, 2)를 리스트로 출력하여라. "
   ]
  },
  {
   "cell_type": "code",
   "execution_count": null,
   "metadata": {
    "ExecuteTime": {
     "end_time": "2021-08-18T07:44:47.851645Z",
     "start_time": "2021-08-18T07:44:47.837681Z"
    }
   },
   "outputs": [],
   "source": []
  },
  {
   "cell_type": "markdown",
   "metadata": {},
   "source": [
    "# for 문\n",
    "\n",
    ">for문은 반복문에 사용된다. \n",
    "\n",
    "--- \n",
    "\n",
    "for 문의 기본 구조는 다음과 같다. "
   ]
  },
  {
   "cell_type": "raw",
   "metadata": {},
   "source": [
    "for 변수 in 범위(리스트) : \n",
    "   수행문장 "
   ]
  },
  {
   "cell_type": "markdown",
   "metadata": {},
   "source": [
    "**예제9** 다음을 코드로 작성하여라. \n",
    "\n",
    "(1) 1부터 10까지의 수를 출력하여라. "
   ]
  },
  {
   "cell_type": "code",
   "execution_count": null,
   "metadata": {
    "ExecuteTime": {
     "end_time": "2021-08-18T07:44:47.994103Z",
     "start_time": "2021-08-18T07:44:47.987121Z"
    }
   },
   "outputs": [],
   "source": []
  },
  {
   "cell_type": "markdown",
   "metadata": {},
   "source": [
    "(2) 1부터 10까지의 수의 합을 구하여라. "
   ]
  },
  {
   "cell_type": "code",
   "execution_count": null,
   "metadata": {
    "ExecuteTime": {
     "end_time": "2021-08-18T07:44:48.072924Z",
     "start_time": "2021-08-18T07:44:48.052944Z"
    }
   },
   "outputs": [],
   "source": []
  },
  {
   "cell_type": "markdown",
   "metadata": {},
   "source": [
    "**문제6** 다음을 코드로 작성하여라.  \n",
    "\n",
    "(1) 1부터 10까지의 수를 각각 제곱하여 출력하여라."
   ]
  },
  {
   "cell_type": "code",
   "execution_count": null,
   "metadata": {
    "ExecuteTime": {
     "end_time": "2021-08-18T07:44:48.136755Z",
     "start_time": "2021-08-18T07:44:48.121793Z"
    }
   },
   "outputs": [],
   "source": []
  },
  {
   "cell_type": "markdown",
   "metadata": {},
   "source": [
    "(2) 1부터 10까지 수의 제곱의 합을 구하여라. "
   ]
  },
  {
   "cell_type": "code",
   "execution_count": null,
   "metadata": {
    "ExecuteTime": {
     "end_time": "2021-08-18T07:44:48.200549Z",
     "start_time": "2021-08-18T07:44:48.191583Z"
    }
   },
   "outputs": [],
   "source": []
  },
  {
   "cell_type": "markdown",
   "metadata": {},
   "source": [
    "# 도전하기\n",
    "다음을 출력하는 코드를 작성하여라. \n",
    "\n",
    "1. 리스트를 이용하여 수열 $(5n-3)$을 1항부터 10항까지 출력하여라. "
   ]
  },
  {
   "cell_type": "code",
   "execution_count": null,
   "metadata": {
    "ExecuteTime": {
     "end_time": "2021-08-18T07:44:48.279339Z",
     "start_time": "2021-08-18T07:44:48.259392Z"
    }
   },
   "outputs": [],
   "source": []
  },
  {
   "cell_type": "markdown",
   "metadata": {},
   "source": [
    "2.  $\\Sigma_{k=1}^{100} (5k-3)$"
   ]
  },
  {
   "cell_type": "code",
   "execution_count": null,
   "metadata": {
    "ExecuteTime": {
     "end_time": "2021-08-18T07:44:48.483792Z",
     "start_time": "2021-08-18T07:44:48.464850Z"
    }
   },
   "outputs": [],
   "source": []
  },
  {
   "cell_type": "markdown",
   "metadata": {},
   "source": [
    "3. 리스트를 이용하여 수열 ($3^k - k^2 + 2$)를 1항부터 10항까지 출력하여라. "
   ]
  },
  {
   "cell_type": "code",
   "execution_count": null,
   "metadata": {
    "ExecuteTime": {
     "end_time": "2021-08-18T07:44:48.849813Z",
     "start_time": "2021-08-18T07:44:48.830865Z"
    }
   },
   "outputs": [],
   "source": []
  },
  {
   "cell_type": "markdown",
   "metadata": {},
   "source": [
    "4. $\\Sigma^{100}_{k=1} (3^k-k^2+2)$"
   ]
  },
  {
   "cell_type": "code",
   "execution_count": null,
   "metadata": {
    "ExecuteTime": {
     "end_time": "2021-08-18T07:44:48.993430Z",
     "start_time": "2021-08-18T07:44:48.973485Z"
    }
   },
   "outputs": [],
   "source": []
  },
  {
   "cell_type": "markdown",
   "metadata": {},
   "source": [
    "# 관계 연산자\n",
    "\n",
    "| 관계 연산자 | 설명 |\n",
    "| :---:| :---:  |\n",
    "| a == b | a와 b가 같다. |\n",
    "| a != b | a와 b가 같지 않다. |\n",
    "| a > b | a가 b보다 크다. |\n",
    "| a >= b | a가 b보다 크거나 같다. |\n",
    "\n",
    "---\n",
    "\n",
    "**예제10** $x=7, y=3$이라 하고 다음을 판단하여라. \n",
    "\n",
    "(1) $x$는 7이 맞는가?"
   ]
  },
  {
   "cell_type": "code",
   "execution_count": null,
   "metadata": {
    "ExecuteTime": {
     "end_time": "2021-08-18T07:44:49.246931Z",
     "start_time": "2021-08-18T07:44:49.228981Z"
    }
   },
   "outputs": [],
   "source": []
  },
  {
   "cell_type": "code",
   "execution_count": null,
   "metadata": {
    "ExecuteTime": {
     "end_time": "2021-08-18T07:44:49.278845Z",
     "start_time": "2021-08-18T07:44:49.269874Z"
    }
   },
   "outputs": [],
   "source": []
  },
  {
   "cell_type": "markdown",
   "metadata": {},
   "source": [
    "(2) $x$는 5보다 크거나 같고 $y$는 5보다 작은가?"
   ]
  },
  {
   "cell_type": "code",
   "execution_count": null,
   "metadata": {
    "ExecuteTime": {
     "end_time": "2021-08-18T07:44:49.389550Z",
     "start_time": "2021-08-18T07:44:49.372595Z"
    }
   },
   "outputs": [],
   "source": []
  },
  {
   "cell_type": "markdown",
   "metadata": {},
   "source": [
    "**문제7** $x=2^{50}, y=3^{30}$이라 하고 다음을 판단하여라. \n",
    "\n",
    "(1) $x$는 1,000,000보다 큰가?"
   ]
  },
  {
   "cell_type": "code",
   "execution_count": null,
   "metadata": {
    "ExecuteTime": {
     "end_time": "2021-08-18T07:44:49.469338Z",
     "start_time": "2021-08-18T07:44:49.454378Z"
    }
   },
   "outputs": [],
   "source": []
  },
  {
   "cell_type": "markdown",
   "metadata": {},
   "source": [
    "(2) $x$는 $y$보다 작거나 같은가?"
   ]
  },
  {
   "cell_type": "code",
   "execution_count": null,
   "metadata": {
    "ExecuteTime": {
     "end_time": "2021-08-18T07:44:49.533224Z",
     "start_time": "2021-08-18T07:44:49.521199Z"
    }
   },
   "outputs": [],
   "source": []
  },
  {
   "cell_type": "markdown",
   "metadata": {
    "ExecuteTime": {
     "end_time": "2021-08-18T07:32:03.509089Z",
     "start_time": "2021-08-18T07:32:03.489144Z"
    }
   },
   "source": [
    "# if 문\n",
    "\n",
    "\n",
    "> if 문은 조건문에서 사용된다. \n",
    "\n",
    "---\n",
    "\n",
    "if 문의 기본 구조는 다음과 같다."
   ]
  },
  {
   "cell_type": "raw",
   "metadata": {},
   "source": [
    "if 조건문1 :\n",
    "    수행문장1\n",
    "elif 조건문2 :\n",
    "    수행문장2\n",
    "      ⋯\n",
    "else:\n",
    "    수행문장n"
   ]
  },
  {
   "cell_type": "markdown",
   "metadata": {
    "ExecuteTime": {
     "end_time": "2021-08-18T07:32:16.292351Z",
     "start_time": "2021-08-18T07:32:16.281378Z"
    }
   },
   "source": [
    "**예제11** $a=3^{100}, b=4^{80}$이라 하자. 다음을 출력하여라. \n",
    "\n",
    "(1) $a$와 $b$를 출력하여라. "
   ]
  },
  {
   "cell_type": "code",
   "execution_count": null,
   "metadata": {
    "ExecuteTime": {
     "end_time": "2021-08-18T07:44:49.708696Z",
     "start_time": "2021-08-18T07:44:49.692739Z"
    }
   },
   "outputs": [],
   "source": []
  },
  {
   "cell_type": "markdown",
   "metadata": {},
   "source": [
    "(2) if문을 이용하여 두 수의 크기를 비교하여 결과를 출력하여라. "
   ]
  },
  {
   "cell_type": "code",
   "execution_count": null,
   "metadata": {
    "ExecuteTime": {
     "end_time": "2021-08-18T07:44:49.772564Z",
     "start_time": "2021-08-18T07:44:49.757566Z"
    }
   },
   "outputs": [],
   "source": []
  },
  {
   "cell_type": "markdown",
   "metadata": {},
   "source": [
    "# def 함수\n",
    "\n",
    "> def는 함수를 구성하기 위해 사용한다. \n",
    "\n",
    "---\n",
    "\n",
    "def의 기본구조는 다음과 같다. "
   ]
  },
  {
   "cell_type": "raw",
   "metadata": {},
   "source": [
    "def 함수이름(변수) :\n",
    "    수행문장\n",
    "    return 결과값"
   ]
  },
  {
   "cell_type": "markdown",
   "metadata": {},
   "source": [
    "**예제12** 다음을 코드로 작성하여라. \n",
    "\n",
    "(1) 두 수의 평균을 구하는 함수 mean을 만들어라. "
   ]
  },
  {
   "cell_type": "code",
   "execution_count": null,
   "metadata": {
    "ExecuteTime": {
     "end_time": "2021-08-18T07:44:49.915354Z",
     "start_time": "2021-08-18T07:44:49.898435Z"
    }
   },
   "outputs": [],
   "source": []
  },
  {
   "cell_type": "markdown",
   "metadata": {},
   "source": [
    "(2) 3과 4의 평균을 mean으로 확인하여라. "
   ]
  },
  {
   "cell_type": "code",
   "execution_count": null,
   "metadata": {
    "ExecuteTime": {
     "end_time": "2021-08-18T07:44:50.011094Z",
     "start_time": "2021-08-18T07:44:49.995137Z"
    }
   },
   "outputs": [],
   "source": []
  },
  {
   "cell_type": "markdown",
   "metadata": {},
   "source": [
    "**문제8** 다음을 코드로 작성하여라. \n",
    "\n",
    "(1) 주어진 수를 4로 나눈 나머지를 출력하는 함수 re를 만들어라. "
   ]
  },
  {
   "cell_type": "code",
   "execution_count": null,
   "metadata": {
    "ExecuteTime": {
     "end_time": "2021-08-18T07:44:50.074924Z",
     "start_time": "2021-08-18T07:44:50.067943Z"
    }
   },
   "outputs": [],
   "source": []
  },
  {
   "cell_type": "markdown",
   "metadata": {},
   "source": [
    "(2) [1, 2, 3, 4]를 4로 나눈 나머지를 함수 re를 통하여 구하고, 이를 리스트로 출력하여라. "
   ]
  },
  {
   "cell_type": "code",
   "execution_count": null,
   "metadata": {
    "ExecuteTime": {
     "end_time": "2021-08-18T07:44:50.152716Z",
     "start_time": "2021-08-18T07:44:50.136758Z"
    }
   },
   "outputs": [],
   "source": []
  }
 ],
 "metadata": {
  "hide_input": false,
  "kernelspec": {
   "display_name": "Python 3",
   "language": "python",
   "name": "python3"
  },
  "language_info": {
   "codemirror_mode": {
    "name": "ipython",
    "version": 3
   },
   "file_extension": ".py",
   "mimetype": "text/x-python",
   "name": "python",
   "nbconvert_exporter": "python",
   "pygments_lexer": "ipython3",
   "version": "3.7.7"
  },
  "nbTranslate": {
   "displayLangs": [
    "*"
   ],
   "hotkey": "alt-t",
   "langInMainMenu": true,
   "sourceLang": "en",
   "targetLang": "fr",
   "useGoogleTranslate": true
  },
  "toc": {
   "base_numbering": 1,
   "nav_menu": {},
   "number_sections": true,
   "sideBar": true,
   "skip_h1_title": false,
   "title_cell": "Table of Contents",
   "title_sidebar": "Contents",
   "toc_cell": false,
   "toc_position": {},
   "toc_section_display": true,
   "toc_window_display": false
  },
  "varInspector": {
   "cols": {
    "lenName": 16,
    "lenType": 16,
    "lenVar": 40
   },
   "kernels_config": {
    "python": {
     "delete_cmd_postfix": "",
     "delete_cmd_prefix": "del ",
     "library": "var_list.py",
     "varRefreshCmd": "print(var_dic_list())"
    },
    "r": {
     "delete_cmd_postfix": ") ",
     "delete_cmd_prefix": "rm(",
     "library": "var_list.r",
     "varRefreshCmd": "cat(var_dic_list()) "
    }
   },
   "types_to_exclude": [
    "module",
    "function",
    "builtin_function_or_method",
    "instance",
    "_Feature"
   ],
   "window_display": false
  }
 },
 "nbformat": 4,
 "nbformat_minor": 2
}
