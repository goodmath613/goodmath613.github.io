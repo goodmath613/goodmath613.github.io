{
 "cells": [
  {
   "cell_type": "markdown",
   "id": "324a26b0",
   "metadata": {
    "ExecuteTime": {
     "end_time": "2021-05-24T01:49:14.816945Z",
     "start_time": "2021-05-24T01:49:14.809999Z"
    }
   },
   "source": [
    "---\n",
    "\n",
    "* 코드를 작성 후 \"Shift + Enter\"를 누르거나, 상단의 Run을 클릭하면 코드가 실행 된다. \n",
    "\n",
    "---\n",
    "\n",
    "# 수의 연산\n",
    "\n",
    "\n",
    "| 연산 |  활용법 | 설명 |\n",
    "|:----:|:---:|:----:|\n",
    "| + | a + b | a 더하기 b   |\n",
    "| - | a - b |  a 빼기 b   | \n",
    "| * | a * b | a 곱하기 b  | \n",
    "| / | a / b | a 나누기 b  | \n",
    "| ** | a ** b | a 의 b 제곱 |\n",
    "| // | a // b | a를 b로 나눈 몫 |\n",
    "| % | a % b | a를 b로 나눈 나머지 |\n",
    "\n",
    "---\n",
    "\n",
    "**예제1** 다음을 연산하여라. \n",
    "\n",
    "(1) 3 더하기 5"
   ]
  },
  {
   "cell_type": "code",
   "execution_count": 1,
   "id": "52494dd4",
   "metadata": {
    "ExecuteTime": {
     "end_time": "2021-08-17T03:30:23.255394Z",
     "start_time": "2021-08-17T03:30:23.242430Z"
    }
   },
   "outputs": [
    {
     "data": {
      "text/plain": [
       "8"
      ]
     },
     "execution_count": 1,
     "metadata": {},
     "output_type": "execute_result"
    }
   ],
   "source": [
    "3 + 5"
   ]
  },
  {
   "cell_type": "markdown",
   "id": "c7dea8af",
   "metadata": {},
   "source": [
    "(2) 2 곱하기 14"
   ]
  },
  {
   "cell_type": "code",
   "execution_count": null,
   "id": "d0d79234",
   "metadata": {
    "ExecuteTime": {
     "end_time": "2021-07-27T02:09:31.339122Z",
     "start_time": "2021-07-27T02:09:31.316179Z"
    }
   },
   "outputs": [],
   "source": []
  },
  {
   "cell_type": "markdown",
   "id": "d2615cb6",
   "metadata": {},
   "source": [
    "(3) 100을 4로 나눈 몫"
   ]
  },
  {
   "cell_type": "code",
   "execution_count": null,
   "id": "c30a5420",
   "metadata": {
    "ExecuteTime": {
     "end_time": "2021-07-27T02:09:31.387003Z",
     "start_time": "2021-07-27T02:09:31.370040Z"
    }
   },
   "outputs": [],
   "source": []
  },
  {
   "cell_type": "markdown",
   "id": "2de59f53",
   "metadata": {},
   "source": [
    "(4) 100342를 3으로 나눈 나머지"
   ]
  },
  {
   "cell_type": "code",
   "execution_count": null,
   "id": "0366ba5e",
   "metadata": {
    "ExecuteTime": {
     "end_time": "2021-07-27T02:09:31.465788Z",
     "start_time": "2021-07-27T02:09:31.440853Z"
    }
   },
   "outputs": [],
   "source": []
  },
  {
   "cell_type": "markdown",
   "id": "2576f596",
   "metadata": {},
   "source": [
    "**문제1** 다음을 연산하여라. \n",
    "\n",
    "(1) 2 빼기 14"
   ]
  },
  {
   "cell_type": "code",
   "execution_count": null,
   "id": "7ee32aaf",
   "metadata": {
    "ExecuteTime": {
     "end_time": "2021-07-27T02:09:31.528611Z",
     "start_time": "2021-07-27T02:09:31.508666Z"
    }
   },
   "outputs": [],
   "source": []
  },
  {
   "cell_type": "markdown",
   "id": "14ce2286",
   "metadata": {},
   "source": [
    "(2) 3의 100제곱"
   ]
  },
  {
   "cell_type": "code",
   "execution_count": null,
   "id": "3c1da671",
   "metadata": {
    "ExecuteTime": {
     "end_time": "2021-07-27T02:09:31.576483Z",
     "start_time": "2021-07-27T02:09:31.559529Z"
    }
   },
   "outputs": [],
   "source": []
  },
  {
   "cell_type": "markdown",
   "id": "f7fb3763",
   "metadata": {},
   "source": [
    "(3) 1002를 3로 나눈 몫"
   ]
  },
  {
   "cell_type": "code",
   "execution_count": null,
   "id": "5cd2371b",
   "metadata": {
    "ExecuteTime": {
     "end_time": "2021-07-27T02:09:31.624354Z",
     "start_time": "2021-07-27T02:09:31.610392Z"
    }
   },
   "outputs": [],
   "source": []
  },
  {
   "cell_type": "markdown",
   "id": "6d82941f",
   "metadata": {},
   "source": [
    "(4) 1002를 3로 나눈 나머지"
   ]
  },
  {
   "cell_type": "code",
   "execution_count": null,
   "id": "e8a5b2fe",
   "metadata": {
    "ExecuteTime": {
     "end_time": "2021-07-27T02:09:31.670266Z",
     "start_time": "2021-07-27T02:09:31.656273Z"
    }
   },
   "outputs": [],
   "source": []
  },
  {
   "cell_type": "markdown",
   "id": "8befdbe3",
   "metadata": {},
   "source": [
    "# 수의 표현\n",
    "\n",
    "\n",
    "| 함수 |  활용법 | 설명 |\n",
    "|:----:|:---:|:----:|\n",
    "|int| int(수) | 입력수의 정수 출력  |\n",
    "| float| float(수) |  입력수의 실수 출력  | \n",
    "\n",
    "---\n",
    "\n",
    "**예제2** 다음을 출력하여라.\n",
    "\n",
    "(1) 10.2의 정수"
   ]
  },
  {
   "cell_type": "code",
   "execution_count": null,
   "id": "5b643de0",
   "metadata": {
    "ExecuteTime": {
     "end_time": "2021-07-27T02:09:31.702149Z",
     "start_time": "2021-07-27T02:09:31.692173Z"
    }
   },
   "outputs": [],
   "source": []
  },
  {
   "cell_type": "markdown",
   "id": "59234101",
   "metadata": {},
   "source": [
    "(2) 10.2의 실수"
   ]
  },
  {
   "cell_type": "code",
   "execution_count": null,
   "id": "f52adc92",
   "metadata": {
    "ExecuteTime": {
     "end_time": "2021-07-27T02:09:31.749060Z",
     "start_time": "2021-07-27T02:09:31.732105Z"
    }
   },
   "outputs": [],
   "source": []
  },
  {
   "cell_type": "markdown",
   "id": "43372ce3",
   "metadata": {},
   "source": [
    "**문제2** 다음을 출력하여라. \n",
    "\n",
    "(1) -14.7의 정수"
   ]
  },
  {
   "cell_type": "code",
   "execution_count": null,
   "id": "8129d556",
   "metadata": {
    "ExecuteTime": {
     "end_time": "2021-07-27T02:09:31.779940Z",
     "start_time": "2021-07-27T02:09:31.769967Z"
    }
   },
   "outputs": [],
   "source": []
  },
  {
   "cell_type": "markdown",
   "id": "0d7d2ca6",
   "metadata": {},
   "source": [
    "(2) -14.7의 실수"
   ]
  },
  {
   "cell_type": "code",
   "execution_count": null,
   "id": "f76e8782",
   "metadata": {
    "ExecuteTime": {
     "end_time": "2021-07-27T02:09:31.843768Z",
     "start_time": "2021-07-27T02:09:31.823823Z"
    }
   },
   "outputs": [],
   "source": []
  },
  {
   "cell_type": "markdown",
   "id": "ab911eb5",
   "metadata": {},
   "source": [
    "# print 함수\n",
    "\n",
    "| 함수 | 활용법 |\n",
    "| :---:| :---:  | \n",
    "| print | print(출력할 내용1, 출력할 내용2, $\\cdots$, 출력할 내용n) | \n",
    "\n",
    "> 문자열 출력시 따옴표를 활용한다.작은따옴표, 큰따옴표 둘다 사용가능하다.  \n",
    "> print 함수 내에서 연산이 가능하다.  \n",
    "\n",
    "---\n",
    "\n",
    "**예제3** print함수로 다음을 출력하여라.\n",
    "\n",
    "(1) ‘안녕’ \n",
    "\n"
   ]
  },
  {
   "cell_type": "code",
   "execution_count": null,
   "id": "8264c0bf",
   "metadata": {
    "ExecuteTime": {
     "end_time": "2021-07-27T02:09:31.906601Z",
     "start_time": "2021-07-27T02:09:31.881672Z"
    }
   },
   "outputs": [],
   "source": []
  },
  {
   "cell_type": "markdown",
   "id": "4afe788a",
   "metadata": {},
   "source": [
    "(2) 2"
   ]
  },
  {
   "cell_type": "code",
   "execution_count": null,
   "id": "08445262",
   "metadata": {
    "ExecuteTime": {
     "end_time": "2021-07-27T02:09:31.954488Z",
     "start_time": "2021-07-27T02:09:31.941508Z"
    }
   },
   "outputs": [],
   "source": []
  },
  {
   "cell_type": "markdown",
   "id": "eba9d1ab",
   "metadata": {},
   "source": [
    "(3) 3 + 2"
   ]
  },
  {
   "cell_type": "code",
   "execution_count": null,
   "id": "8146b77d",
   "metadata": {
    "ExecuteTime": {
     "end_time": "2021-07-27T02:09:32.001346Z",
     "start_time": "2021-07-27T02:09:31.996359Z"
    }
   },
   "outputs": [],
   "source": []
  },
  {
   "cell_type": "markdown",
   "id": "ae5d1e1d",
   "metadata": {},
   "source": [
    "(4) 2의 5제곱은 32이다. 단, 32는 직접 연산하지 않고, 연산 함수를 활용하여라. "
   ]
  },
  {
   "cell_type": "code",
   "execution_count": null,
   "id": "94471cee",
   "metadata": {
    "ExecuteTime": {
     "end_time": "2021-07-27T02:09:32.047223Z",
     "start_time": "2021-07-27T02:09:32.036262Z"
    }
   },
   "outputs": [],
   "source": []
  },
  {
   "cell_type": "markdown",
   "id": "51bfd709",
   "metadata": {},
   "source": [
    "**문제3** print 함수로 다음을 출력하여라.\n",
    "\n",
    "(1) 본인 이름 "
   ]
  },
  {
   "cell_type": "code",
   "execution_count": null,
   "id": "eeaa74fd",
   "metadata": {
    "ExecuteTime": {
     "end_time": "2021-07-27T02:09:32.111053Z",
     "start_time": "2021-07-27T02:09:32.097090Z"
    }
   },
   "outputs": [],
   "source": []
  },
  {
   "cell_type": "markdown",
   "id": "374592bf",
   "metadata": {},
   "source": [
    "(2) 나는 1학년이다. "
   ]
  },
  {
   "cell_type": "code",
   "execution_count": null,
   "id": "ca7d21ff",
   "metadata": {
    "ExecuteTime": {
     "end_time": "2021-07-27T02:09:32.157928Z",
     "start_time": "2021-07-27T02:09:32.142969Z"
    }
   },
   "outputs": [],
   "source": []
  },
  {
   "cell_type": "markdown",
   "id": "452bc84a",
   "metadata": {},
   "source": [
    "(3) 3 더하기 4는 7이다. 단, 7은 직접 연산하지 않고, 연산 함수를 활용하여라. "
   ]
  },
  {
   "cell_type": "code",
   "execution_count": null,
   "id": "b7254c69",
   "metadata": {
    "ExecuteTime": {
     "end_time": "2021-07-27T02:09:32.189845Z",
     "start_time": "2021-07-27T02:09:32.183864Z"
    }
   },
   "outputs": [],
   "source": []
  },
  {
   "cell_type": "markdown",
   "id": "4190d325",
   "metadata": {},
   "source": [
    "#  변수\n",
    "\n",
    "| 활용법 | 설명 |\n",
    "| :---:| :---:  |\n",
    "| x = a | a를 x라 하자. |\n",
    "| x, y = a, b | a를 x, b를 y라 하자. |\n",
    "\n",
    "---\n",
    "\n",
    "**예제4** 다음을 코드로 작성하여라.\n",
    "\n",
    "(1) 4을 x라 하고 x를 확인하여라."
   ]
  },
  {
   "cell_type": "code",
   "execution_count": null,
   "id": "d9c2492e",
   "metadata": {
    "ExecuteTime": {
     "end_time": "2021-07-27T02:09:32.237714Z",
     "start_time": "2021-07-27T02:09:32.220761Z"
    }
   },
   "outputs": [],
   "source": []
  },
  {
   "cell_type": "markdown",
   "id": "860fbde2",
   "metadata": {},
   "source": [
    "(2) 5를 x, 3을 y라 하고, x, y를 확인하여라. "
   ]
  },
  {
   "cell_type": "code",
   "execution_count": null,
   "id": "228140a8",
   "metadata": {
    "ExecuteTime": {
     "end_time": "2021-07-27T02:09:32.269630Z",
     "start_time": "2021-07-27T02:09:32.258659Z"
    }
   },
   "outputs": [],
   "source": []
  },
  {
   "cell_type": "markdown",
   "id": "f743ee4c",
   "metadata": {},
   "source": [
    "(3) x와 y의 합을 구하여라. "
   ]
  },
  {
   "cell_type": "code",
   "execution_count": null,
   "id": "51262102",
   "metadata": {
    "ExecuteTime": {
     "end_time": "2021-07-27T02:09:32.300552Z",
     "start_time": "2021-07-27T02:09:32.294564Z"
    }
   },
   "outputs": [],
   "source": []
  },
  {
   "cell_type": "markdown",
   "id": "728e9e23",
   "metadata": {},
   "source": [
    "**문제4** 다음을 코드로 작성하여라. \n",
    "\n",
    "(1) 7을 a라 하고 a를 확인하여라. "
   ]
  },
  {
   "cell_type": "code",
   "execution_count": null,
   "id": "56ec363a",
   "metadata": {
    "ExecuteTime": {
     "end_time": "2021-07-27T02:09:32.348419Z",
     "start_time": "2021-07-27T02:09:32.328473Z"
    }
   },
   "outputs": [],
   "source": []
  },
  {
   "cell_type": "markdown",
   "id": "c01ec763",
   "metadata": {},
   "source": [
    "(2) 8을 a, 23을 b라 하고, a, b, a*b를 출력하여라. "
   ]
  },
  {
   "cell_type": "code",
   "execution_count": null,
   "id": "5e735c30",
   "metadata": {
    "ExecuteTime": {
     "end_time": "2021-07-27T02:09:32.380333Z",
     "start_time": "2021-07-27T02:09:32.366373Z"
    }
   },
   "outputs": [],
   "source": []
  },
  {
   "cell_type": "markdown",
   "id": "d3026890",
   "metadata": {},
   "source": [
    "# 도전하기\n",
    "\n",
    "$x = 3, y = 2$ 일 때 다음 식을 계산하여라. \n",
    "\n",
    "(1) $3 x^2 + 2 y^2 - 4 x +5 y +10$"
   ]
  },
  {
   "cell_type": "code",
   "execution_count": null,
   "id": "c50b97cb",
   "metadata": {
    "ExecuteTime": {
     "end_time": "2021-07-27T02:09:32.427241Z",
     "start_time": "2021-07-27T02:09:32.405266Z"
    }
   },
   "outputs": [],
   "source": []
  },
  {
   "cell_type": "markdown",
   "id": "1f90370d",
   "metadata": {},
   "source": [
    "(2) $\\frac{1}{3} x^2 - 10 x + 5$"
   ]
  },
  {
   "cell_type": "code",
   "execution_count": null,
   "id": "712227b5",
   "metadata": {
    "ExecuteTime": {
     "end_time": "2021-07-27T02:09:32.459158Z",
     "start_time": "2021-07-27T02:09:32.443165Z"
    }
   },
   "outputs": [],
   "source": []
  },
  {
   "cell_type": "markdown",
   "id": "ed65bced",
   "metadata": {},
   "source": [
    "(3) $\\frac{2x+3y-7}{10}$"
   ]
  },
  {
   "cell_type": "code",
   "execution_count": null,
   "id": "5ea83762",
   "metadata": {
    "ExecuteTime": {
     "end_time": "2021-07-27T02:09:32.491039Z",
     "start_time": "2021-07-27T02:09:32.480071Z"
    }
   },
   "outputs": [],
   "source": []
  }
 ],
 "metadata": {
  "hide_input": false,
  "kernelspec": {
   "display_name": "Python 3",
   "language": "python",
   "name": "python3"
  },
  "language_info": {
   "codemirror_mode": {
    "name": "ipython",
    "version": 3
   },
   "file_extension": ".py",
   "mimetype": "text/x-python",
   "name": "python",
   "nbconvert_exporter": "python",
   "pygments_lexer": "ipython3",
   "version": "3.7.7"
  },
  "nbTranslate": {
   "displayLangs": [
    "*"
   ],
   "hotkey": "alt-t",
   "langInMainMenu": true,
   "sourceLang": "en",
   "targetLang": "fr",
   "useGoogleTranslate": true
  },
  "toc": {
   "base_numbering": 1,
   "nav_menu": {},
   "number_sections": true,
   "sideBar": true,
   "skip_h1_title": false,
   "title_cell": "Table of Contents",
   "title_sidebar": "Contents",
   "toc_cell": false,
   "toc_position": {},
   "toc_section_display": true,
   "toc_window_display": false
  },
  "varInspector": {
   "cols": {
    "lenName": 16,
    "lenType": 16,
    "lenVar": 40
   },
   "kernels_config": {
    "python": {
     "delete_cmd_postfix": "",
     "delete_cmd_prefix": "del ",
     "library": "var_list.py",
     "varRefreshCmd": "print(var_dic_list())"
    },
    "r": {
     "delete_cmd_postfix": ") ",
     "delete_cmd_prefix": "rm(",
     "library": "var_list.r",
     "varRefreshCmd": "cat(var_dic_list()) "
    }
   },
   "types_to_exclude": [
    "module",
    "function",
    "builtin_function_or_method",
    "instance",
    "_Feature"
   ],
   "window_display": false
  }
 },
 "nbformat": 4,
 "nbformat_minor": 5
}
