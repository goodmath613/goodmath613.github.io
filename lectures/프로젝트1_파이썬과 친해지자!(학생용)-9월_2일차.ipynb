{
 "cells": [
  {
   "cell_type": "markdown",
   "metadata": {},
   "source": [
    "---\n",
    "\n",
    "코드를 작성 후 \"Shift+Enter\"을 누르거나, 셀 왼쪽의 삼각형을 클릭하면 코드가 실행된다. \n",
    "\n",
    "---"
   ]
  },
  {
   "cell_type": "markdown",
   "metadata": {},
   "source": [
    "# 다양한 함수\n",
    "\n",
    "| 함수 | 활용법 | 설명 | \n",
    "|:---:| :---:|  :---: |\n",
    "| min | min(입력값) | 입력값의 최솟값을 출력한다 |  \n",
    "| max | max(입력값) | 입력값의 최댓값을 출력한다 | \n",
    "| len | len(입력값) | 입력값의 길이를 출력한다 |\n",
    "| break | break | 반복문을 끝낸다 |\n",
    "\n",
    "---\n",
    "\n",
    "**예제13** 1부터 100까지 출력하여라. 단, 10에서 멈추어라. "
   ]
  },
  {
   "cell_type": "code",
   "execution_count": null,
   "metadata": {
    "ExecuteTime": {
     "end_time": "2021-06-08T01:42:29.168838Z",
     "start_time": "2021-06-08T01:42:29.159852Z"
    }
   },
   "outputs": [],
   "source": []
  },
  {
   "cell_type": "markdown",
   "metadata": {},
   "source": [
    "# while 문\n",
    "\n",
    "> while문은 반복문에 사용된다. \n",
    "\n",
    "--- \n",
    "\n",
    "while 문의 기본 구조는 다음과 같다. "
   ]
  },
  {
   "cell_type": "raw",
   "metadata": {},
   "source": [
    "while 조건문 : \n",
    "   수행문장 "
   ]
  },
  {
   "cell_type": "markdown",
   "metadata": {},
   "source": [
    "**예제14** while 문을 이용하여 1부터 100까지 출력하여라. 단, 10에서 멈추어라. "
   ]
  },
  {
   "cell_type": "code",
   "execution_count": null,
   "metadata": {
    "ExecuteTime": {
     "end_time": "2021-06-08T01:42:30.428282Z",
     "start_time": "2021-06-08T01:42:30.412405Z"
    }
   },
   "outputs": [],
   "source": []
  },
  {
   "cell_type": "markdown",
   "metadata": {},
   "source": [
    "# zip \n",
    "\n",
    "> 동일한 개수의 자료를 묶어주는 함수이다. \n",
    "\n",
    "| 활용법 | 설명 | \n",
    "| :---:|  :---: |\n",
    "| zip(['a', 'b'], ['c', 'd']) | [('a', 'c'), ('b', 'd')]로 순서에 맞게 묶는다. |  \n",
    "| zip([1, 3, 5], [2, 4, 6]) | [(1, 2), (3, 4), (5, 6)]로 순서에 맞게 묶는다.\n",
    "|  zip('abc', 'ple') | [('a', 'p'), ('b', 'l'), ('c','e')]로 순서에 맞게 묶는다. |\n",
    "\n",
    "---\n",
    "\n",
    "**예제15** 표를 이용하여 다음의 코드를 작성하여라. \n",
    "\n",
    "| a | 30 | 38 | 29 |\n",
    "|:--:|:---:|:---:|:---: |\n",
    "| b | 83 | 74 | 80 |\n",
    "\n",
    "(1) a와 b의 리스트를 만들어라. "
   ]
  },
  {
   "cell_type": "code",
   "execution_count": null,
   "metadata": {
    "ExecuteTime": {
     "end_time": "2021-06-07T06:27:28.158476Z",
     "start_time": "2021-06-07T06:27:28.139495Z"
    }
   },
   "outputs": [],
   "source": []
  },
  {
   "cell_type": "markdown",
   "metadata": {},
   "source": [
    "(2) zip함수를 이용하여 a와 b의 값을 순서대로 묶어서 출력하여라. "
   ]
  },
  {
   "cell_type": "code",
   "execution_count": null,
   "metadata": {
    "ExecuteTime": {
     "end_time": "2021-06-07T06:27:28.190382Z",
     "start_time": "2021-06-07T06:27:28.171411Z"
    }
   },
   "outputs": [],
   "source": []
  },
  {
   "cell_type": "markdown",
   "metadata": {},
   "source": [
    "**문제9** 표를 이용하여 다음의 코드를 작성하여라. \n",
    "\n",
    "| 이름 | 경일 | 희정 | 선하 |\n",
    "|:--:|:---:|:---:|:---: |\n",
    "| 수학 |60 | 78 | 92|\n",
    "| 영어 |84 | 49 | 73 |\n",
    "\n",
    "(1) 이름, 수학, 영어의 리스트를 만들어라. "
   ]
  },
  {
   "cell_type": "code",
   "execution_count": null,
   "metadata": {
    "ExecuteTime": {
     "end_time": "2021-06-07T06:27:28.221308Z",
     "start_time": "2021-06-07T06:27:28.205352Z"
    }
   },
   "outputs": [],
   "source": []
  },
  {
   "cell_type": "markdown",
   "metadata": {},
   "source": [
    "(2) \"이름 : 수학점수\"를 출력하여라. "
   ]
  },
  {
   "cell_type": "code",
   "execution_count": null,
   "metadata": {
    "ExecuteTime": {
     "end_time": "2021-06-07T06:27:28.253190Z",
     "start_time": "2021-06-07T06:27:28.237235Z"
    }
   },
   "outputs": [],
   "source": []
  },
  {
   "cell_type": "markdown",
   "metadata": {},
   "source": [
    "(3) \"이름 : 영어와 수학 점수 중 낮은 점수\"를 출력하여라. "
   ]
  },
  {
   "cell_type": "code",
   "execution_count": null,
   "metadata": {
    "ExecuteTime": {
     "end_time": "2021-06-07T06:27:28.285105Z",
     "start_time": "2021-06-07T06:27:28.270147Z"
    }
   },
   "outputs": [],
   "source": []
  },
  {
   "cell_type": "markdown",
   "metadata": {},
   "source": [
    "# 도전하기\n",
    "\n",
    "다음을 출력하는 코드를 작성하여라. \n",
    "\n",
    "1. $10!$을 구하여라. "
   ]
  },
  {
   "cell_type": "code",
   "execution_count": null,
   "metadata": {
    "ExecuteTime": {
     "end_time": "2021-06-07T06:27:28.317019Z",
     "start_time": "2021-06-07T06:27:28.304087Z"
    }
   },
   "outputs": [],
   "source": []
  },
  {
   "cell_type": "markdown",
   "metadata": {},
   "source": [
    "2. $n!$을 구하는 함수 factorial을 만들어라. "
   ]
  },
  {
   "cell_type": "code",
   "execution_count": null,
   "metadata": {
    "ExecuteTime": {
     "end_time": "2021-06-07T06:27:28.412764Z",
     "start_time": "2021-06-07T06:27:28.404785Z"
    }
   },
   "outputs": [],
   "source": []
  },
  {
   "cell_type": "markdown",
   "metadata": {},
   "source": [
    "3. 조합의 수 $_n C _r (n \\geq r)$을 구하는 함수를 만들어서 $_4 C _2$로 값을 확인하여라. "
   ]
  },
  {
   "cell_type": "code",
   "execution_count": null,
   "metadata": {
    "ExecuteTime": {
     "end_time": "2021-06-07T06:27:28.444694Z",
     "start_time": "2021-06-07T06:27:28.438696Z"
    }
   },
   "outputs": [],
   "source": []
  },
  {
   "cell_type": "code",
   "execution_count": null,
   "metadata": {
    "ExecuteTime": {
     "end_time": "2021-06-07T06:27:28.476617Z",
     "start_time": "2021-06-07T06:27:28.461667Z"
    }
   },
   "outputs": [],
   "source": []
  },
  {
   "cell_type": "markdown",
   "metadata": {},
   "source": [
    "# 조합과 중복조합을 코드로 작성하기\n",
    "\n",
    "itertools에서 combinations와 combinations_with_replacement 라이브러리 불러오기"
   ]
  },
  {
   "cell_type": "code",
   "execution_count": null,
   "metadata": {
    "ExecuteTime": {
     "end_time": "2021-08-10T08:04:33.503728Z",
     "start_time": "2021-08-10T08:04:33.493756Z"
    }
   },
   "outputs": [],
   "source": []
  },
  {
   "cell_type": "markdown",
   "metadata": {},
   "source": [
    "# combinations와 combinations_with_replacement 함수\n",
    "\n",
    "\n",
    "| 함수 | 설명 | \n",
    "|:---: | :---: |\n",
    "| combinations(seq, k) | 주어진 배열 seq에서 k개 택하는  조합을 출력 한다. |\n",
    "| combinations_with_replacement(seq, k) | 주어진 배열 seq에서 k개 택하는 중복조합을 출력 한다. |\n",
    "\n",
    "**예제16** 다음을 코드로 작성하여라. \n",
    "\n",
    "(1) 0,1,2,3에서 2개 택하는 조합을 출력하여라. \n",
    "\n",
    "(방법1)"
   ]
  },
  {
   "cell_type": "code",
   "execution_count": null,
   "metadata": {
    "ExecuteTime": {
     "end_time": "2021-08-10T08:04:47.254947Z",
     "start_time": "2021-08-10T08:04:47.233964Z"
    }
   },
   "outputs": [],
   "source": []
  },
  {
   "cell_type": "markdown",
   "metadata": {},
   "source": [
    "(방법2)"
   ]
  },
  {
   "cell_type": "code",
   "execution_count": null,
   "metadata": {
    "ExecuteTime": {
     "end_time": "2021-08-10T08:05:01.228715Z",
     "start_time": "2021-08-10T08:05:01.208801Z"
    }
   },
   "outputs": [],
   "source": []
  },
  {
   "cell_type": "markdown",
   "metadata": {},
   "source": [
    "(2) 0,1,2,3에서 2개 택하는 중복조합을 출력하여라. \n",
    "\n",
    "(방법1)"
   ]
  },
  {
   "cell_type": "code",
   "execution_count": null,
   "metadata": {
    "ExecuteTime": {
     "end_time": "2021-08-10T08:05:13.736509Z",
     "start_time": "2021-08-10T08:05:13.714599Z"
    }
   },
   "outputs": [],
   "source": []
  },
  {
   "cell_type": "markdown",
   "metadata": {},
   "source": [
    "(방법2)"
   ]
  },
  {
   "cell_type": "code",
   "execution_count": null,
   "metadata": {
    "ExecuteTime": {
     "end_time": "2021-08-10T08:05:29.867888Z",
     "start_time": "2021-08-10T08:05:29.848972Z"
    }
   },
   "outputs": [],
   "source": []
  }
 ],
 "metadata": {
  "hide_input": false,
  "kernelspec": {
   "display_name": "Python 3",
   "language": "python",
   "name": "python3"
  },
  "language_info": {
   "codemirror_mode": {
    "name": "ipython",
    "version": 3
   },
   "file_extension": ".py",
   "mimetype": "text/x-python",
   "name": "python",
   "nbconvert_exporter": "python",
   "pygments_lexer": "ipython3",
   "version": "3.7.7"
  },
  "nbTranslate": {
   "displayLangs": [
    "*"
   ],
   "hotkey": "alt-t",
   "langInMainMenu": true,
   "sourceLang": "en",
   "targetLang": "fr",
   "useGoogleTranslate": true
  },
  "toc": {
   "base_numbering": 1,
   "nav_menu": {},
   "number_sections": true,
   "sideBar": true,
   "skip_h1_title": false,
   "title_cell": "Table of Contents",
   "title_sidebar": "Contents",
   "toc_cell": false,
   "toc_position": {},
   "toc_section_display": true,
   "toc_window_display": false
  },
  "varInspector": {
   "cols": {
    "lenName": 16,
    "lenType": 16,
    "lenVar": 40
   },
   "kernels_config": {
    "python": {
     "delete_cmd_postfix": "",
     "delete_cmd_prefix": "del ",
     "library": "var_list.py",
     "varRefreshCmd": "print(var_dic_list())"
    },
    "r": {
     "delete_cmd_postfix": ") ",
     "delete_cmd_prefix": "rm(",
     "library": "var_list.r",
     "varRefreshCmd": "cat(var_dic_list()) "
    }
   },
   "types_to_exclude": [
    "module",
    "function",
    "builtin_function_or_method",
    "instance",
    "_Feature"
   ],
   "window_display": false
  }
 },
 "nbformat": 4,
 "nbformat_minor": 2
}
