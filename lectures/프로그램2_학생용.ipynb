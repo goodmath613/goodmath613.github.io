{
 "cells": [
  {
   "cell_type": "markdown",
   "id": "1b75a24f",
   "metadata": {},
   "source": [
    "---\n",
    "\n",
    "* 코드를 작성 후 \"Shift + Enter\"를 누르거나, 상단의 Run을 클릭하면 코드가 실행 된다. \n",
    "\n",
    "---\n",
    "\n",
    "# 조건식\n",
    "\n",
    "| 활용법 | 설명 |\n",
    "| :---:| :---:  |\n",
    "| a == b | a와 b는 같다. |\n",
    "| a != b | a와 b는 다르다. |\n",
    "| a > b | a는 b보다 크다. | \n",
    "| a < b | a는 b보다 작다. | \n",
    "| a >= b | a는 b보다 크거나 같다. |\n",
    "| a <= b | a는 b보다 작거나 같다. |\n",
    "\n",
    "---\n",
    "\n",
    "**예제1** x = 2, y = 5라하고, 다음을 코드를 통해 확인하여라. \n",
    "\n",
    "(1) x는 3인가?"
   ]
  },
  {
   "cell_type": "code",
   "execution_count": null,
   "id": "d89bb07e",
   "metadata": {
    "ExecuteTime": {
     "end_time": "2021-06-02T07:24:34.855432Z",
     "start_time": "2021-06-02T07:24:34.842464Z"
    }
   },
   "outputs": [],
   "source": []
  },
  {
   "cell_type": "markdown",
   "id": "f0526567",
   "metadata": {},
   "source": [
    "(2) x는 3이 아닌가?"
   ]
  },
  {
   "cell_type": "code",
   "execution_count": null,
   "id": "003653fe",
   "metadata": {
    "ExecuteTime": {
     "end_time": "2021-06-02T07:24:34.887344Z",
     "start_time": "2021-06-02T07:24:34.877372Z"
    }
   },
   "outputs": [],
   "source": []
  },
  {
   "cell_type": "markdown",
   "id": "e6288ff5",
   "metadata": {},
   "source": [
    "(3) x의 4제곱은 16보다 작은가?"
   ]
  },
  {
   "cell_type": "code",
   "execution_count": null,
   "id": "f6970cca",
   "metadata": {
    "ExecuteTime": {
     "end_time": "2021-06-02T07:24:34.950176Z",
     "start_time": "2021-06-02T07:24:34.931225Z"
    }
   },
   "outputs": [],
   "source": []
  },
  {
   "cell_type": "markdown",
   "id": "09d114b6",
   "metadata": {},
   "source": [
    "(4) x의 4제곱은 10보다 크거나 같은가?"
   ]
  },
  {
   "cell_type": "code",
   "execution_count": null,
   "id": "9d81e99f",
   "metadata": {
    "ExecuteTime": {
     "end_time": "2021-06-02T07:24:34.997049Z",
     "start_time": "2021-06-02T07:24:34.976108Z"
    }
   },
   "outputs": [],
   "source": []
  },
  {
   "cell_type": "markdown",
   "id": "60369024",
   "metadata": {},
   "source": [
    "(5) x는 10보다 크고 y는 16보다 작거나 같은가?"
   ]
  },
  {
   "cell_type": "code",
   "execution_count": null,
   "id": "9f77dcd0",
   "metadata": {
    "ExecuteTime": {
     "end_time": "2021-06-02T07:24:35.043925Z",
     "start_time": "2021-06-02T07:24:35.024977Z"
    }
   },
   "outputs": [],
   "source": []
  },
  {
   "cell_type": "markdown",
   "id": "dbc36df8",
   "metadata": {},
   "source": [
    "(6) x가 10보다 크거나 y는 10보다 작은가?"
   ]
  },
  {
   "cell_type": "code",
   "execution_count": null,
   "id": "0b216433",
   "metadata": {
    "ExecuteTime": {
     "end_time": "2021-06-02T07:24:35.091796Z",
     "start_time": "2021-06-02T07:24:35.072851Z"
    }
   },
   "outputs": [],
   "source": []
  },
  {
   "cell_type": "markdown",
   "id": "9b6174c7",
   "metadata": {},
   "source": [
    "**문제1** x = 3, y = 4라하고, 다음을 코드를 통해 확인하여라.\n",
    "\n",
    "(1) x는 3인가?"
   ]
  },
  {
   "cell_type": "code",
   "execution_count": null,
   "id": "90f3821c",
   "metadata": {
    "ExecuteTime": {
     "end_time": "2021-06-02T07:24:35.155628Z",
     "start_time": "2021-06-02T07:24:35.143661Z"
    }
   },
   "outputs": [],
   "source": []
  },
  {
   "cell_type": "markdown",
   "id": "58d8a8cd",
   "metadata": {},
   "source": [
    "(2) y는 5가 아닌가?"
   ]
  },
  {
   "cell_type": "code",
   "execution_count": null,
   "id": "baa03705",
   "metadata": {
    "ExecuteTime": {
     "end_time": "2021-06-02T07:24:35.203499Z",
     "start_time": "2021-06-02T07:24:35.192529Z"
    }
   },
   "outputs": [],
   "source": []
  },
  {
   "cell_type": "markdown",
   "id": "0d7dacd7",
   "metadata": {},
   "source": [
    "(3) x는 5보다 작은가? "
   ]
  },
  {
   "cell_type": "code",
   "execution_count": null,
   "id": "13cf2597",
   "metadata": {
    "ExecuteTime": {
     "end_time": "2021-06-02T07:24:35.266332Z",
     "start_time": "2021-06-02T07:24:35.248380Z"
    }
   },
   "outputs": [],
   "source": []
  },
  {
   "cell_type": "markdown",
   "id": "5d761963",
   "metadata": {},
   "source": [
    "(4) x는 3보다 크거나 같고, y는 10보다 작은가?"
   ]
  },
  {
   "cell_type": "code",
   "execution_count": null,
   "id": "fbdf7671",
   "metadata": {
    "ExecuteTime": {
     "end_time": "2021-06-02T07:24:35.314206Z",
     "start_time": "2021-06-02T07:24:35.306224Z"
    }
   },
   "outputs": [],
   "source": []
  },
  {
   "cell_type": "markdown",
   "id": "f6e2ff08",
   "metadata": {},
   "source": [
    "# 도전하기\n",
    "\n",
    "국어, 영어, 수학, 과학 점수가 한과목이라도 50점 미만이면 불합격이다.\n",
    "\n",
    "다음 성적에 대하여 합격이면 True, 불합격이면 False를 출력하는 프로그램을 작성하여라.\n",
    "\n",
    "| <center>국어</center> | <center>영어</center> | <center>수학</center> | <center>과학</center> |\n",
    "|-|-|-|-|\n",
    "| <center>93</center> | <center>48</center> | <center>75</center> | <center>82</center> |"
   ]
  },
  {
   "cell_type": "code",
   "execution_count": null,
   "id": "34dd6164",
   "metadata": {
    "ExecuteTime": {
     "end_time": "2021-06-02T07:24:35.376068Z",
     "start_time": "2021-06-02T07:24:35.361078Z"
    }
   },
   "outputs": [],
   "source": []
  },
  {
   "cell_type": "code",
   "execution_count": null,
   "id": "665a5fcf",
   "metadata": {
    "ExecuteTime": {
     "end_time": "2021-06-02T07:24:35.407956Z",
     "start_time": "2021-06-02T07:24:35.393991Z"
    }
   },
   "outputs": [],
   "source": []
  },
  {
   "cell_type": "markdown",
   "id": "e3f830d0",
   "metadata": {},
   "source": [
    "# 리스트 \n",
    "\n",
    "> 파이썬에서 자료(문자 혹은 숫자)를 정리할 수 있는 자료구조에는 리스트,  튜플, 딕셔너리등이 있다. \n",
    ">\n",
    "\n",
    "| 구분 | 특징 | 표현방법 | 예 |\n",
    "| :---: | :---: | :---: | :---: | \n",
    "| 리스트 | 자료를 순서대로 정리 한다. | [ ]를 사용, 쉼표로 각 원소를 구분 | [1, 2, 2] |\n",
    "| 튜플 | 자료를 순서대로 정리 하지만 한번 생성된 값은 변형 불가능하다. | ( )를 사용, 쉼표로 각 원소를 구분 | (1, 2, 2) |\n",
    "| 딕셔너리 | 자료를 key와 values에 대응하여 사전식으로 정리 한다. | { }를 사용, 쉼표로 각 원소를 구분 | {'a'; 'apple', 'b': 'banana'} |\n",
    "\n",
    "> 리스트의 활용법은 다음과 같다. \n",
    "\n",
    "\n",
    "| 활용법 | 설명 | \n",
    "| :---:|  :---: |\n",
    "| list(데이터) | 데이터를 리스트로 바꾼다. |  \n",
    "| 리스트.append(값) | 리스트의 마지막에 값을 추가한다. | \n",
    "| 리스트1 + 리스트2 | 리스트1과 리스트 2를 합친다. |\n",
    "| sum(리스트) | 리스트의 원소가 모두 수일때 리스트의 수를 더한다. |\n",
    "\n",
    "---\n",
    "\n",
    "**예제2** 다음을 코드로 작성하여라.  \n",
    "\n",
    "(1) '2, 21, -15, 학교'인 리스트를 a라 하고, '2, -3, 4, 8'인 리스트를 b라 하고 a와 b를 각각 출력하여라. "
   ]
  },
  {
   "cell_type": "code",
   "execution_count": null,
   "id": "22d87055",
   "metadata": {
    "ExecuteTime": {
     "end_time": "2021-06-02T07:24:35.469789Z",
     "start_time": "2021-06-02T07:24:35.452833Z"
    }
   },
   "outputs": [],
   "source": []
  },
  {
   "cell_type": "markdown",
   "id": "92ed4d69",
   "metadata": {},
   "source": [
    "(2) 리스트 a에 '학생'을 추가하고 이를 확인하여라. "
   ]
  },
  {
   "cell_type": "code",
   "execution_count": null,
   "id": "1b80384c",
   "metadata": {
    "ExecuteTime": {
     "end_time": "2021-06-02T07:24:35.533618Z",
     "start_time": "2021-06-02T07:24:35.512673Z"
    }
   },
   "outputs": [],
   "source": []
  },
  {
   "cell_type": "markdown",
   "id": "ed3e8737",
   "metadata": {},
   "source": [
    "(3) 리스트 a와 b를 하나로 합하여라."
   ]
  },
  {
   "cell_type": "code",
   "execution_count": null,
   "id": "62d8758a",
   "metadata": {
    "ExecuteTime": {
     "end_time": "2021-06-02T07:24:35.581490Z",
     "start_time": "2021-06-02T07:24:35.571517Z"
    }
   },
   "outputs": [],
   "source": []
  },
  {
   "cell_type": "markdown",
   "id": "92aaf878",
   "metadata": {},
   "source": [
    "(4) 리스트 b의 원소를 모두 더하여라."
   ]
  },
  {
   "cell_type": "code",
   "execution_count": null,
   "id": "237cc13e",
   "metadata": {
    "ExecuteTime": {
     "end_time": "2021-06-02T07:24:35.645317Z",
     "start_time": "2021-06-02T07:24:35.628367Z"
    }
   },
   "outputs": [],
   "source": []
  },
  {
   "cell_type": "markdown",
   "id": "1336afc4",
   "metadata": {},
   "source": [
    "**문제2** 다음을 코드로 작성하여라. \n",
    "\n",
    "(1) '사과, 배, 감, 포도'인 리스트를 c라 하고 c를 출력하여라. "
   ]
  },
  {
   "cell_type": "code",
   "execution_count": null,
   "id": "7b32dd53",
   "metadata": {
    "ExecuteTime": {
     "end_time": "2021-06-02T07:24:35.930555Z",
     "start_time": "2021-06-02T07:24:35.919588Z"
    }
   },
   "outputs": [],
   "source": []
  },
  {
   "cell_type": "markdown",
   "id": "c3e69fd7",
   "metadata": {},
   "source": [
    "(2) c에 '수박'을 추가하고 이를 확인하여라. "
   ]
  },
  {
   "cell_type": "code",
   "execution_count": null,
   "id": "472cbc39",
   "metadata": {
    "ExecuteTime": {
     "end_time": "2021-06-02T07:24:35.946514Z",
     "start_time": "2021-06-02T07:24:35.935545Z"
    }
   },
   "outputs": [],
   "source": []
  },
  {
   "cell_type": "markdown",
   "id": "29162a86",
   "metadata": {},
   "source": [
    "# range 함수\n",
    "\n",
    "| 활용법 | 설명 |\n",
    "| :---:  | :---:  |\n",
    "| range(n) | 0 이상 n 미만의 값을 생성한다. |\n",
    "|  range(a, b) | a 이상 b 미만의 값을 생성한다. |\n",
    "|  range(a, b, c) | a 이상 b 미만의 값을 c 간격으로 생성한다. |\n",
    "\n",
    "---\n",
    "\n",
    "**예제3** 다음의 코드를 작성하여라. \n",
    "\n",
    "(1) 0, 1, 2, 3, 4, 5를 range를 이용하여 생성하여라. "
   ]
  },
  {
   "cell_type": "code",
   "execution_count": null,
   "id": "240d569e",
   "metadata": {
    "ExecuteTime": {
     "end_time": "2021-06-02T07:24:35.962471Z",
     "start_time": "2021-06-02T07:24:35.950502Z"
    }
   },
   "outputs": [],
   "source": []
  },
  {
   "cell_type": "markdown",
   "id": "320784f6",
   "metadata": {
    "ExecuteTime": {
     "end_time": "2021-05-26T01:49:34.233923Z",
     "start_time": "2021-05-26T01:49:34.218303Z"
    }
   },
   "source": [
    "(2) 리스트를 이용하여 (1)의 값을 출력하여라."
   ]
  },
  {
   "cell_type": "code",
   "execution_count": null,
   "id": "4c9770de",
   "metadata": {
    "ExecuteTime": {
     "end_time": "2021-06-02T07:24:35.978429Z",
     "start_time": "2021-06-02T07:24:35.967457Z"
    }
   },
   "outputs": [],
   "source": []
  },
  {
   "cell_type": "markdown",
   "id": "56288449",
   "metadata": {},
   "source": [
    "(3) 리스트를 이용하여 1과 10사이의 짝수를 출력하여라. "
   ]
  },
  {
   "cell_type": "code",
   "execution_count": null,
   "id": "0022c460",
   "metadata": {
    "ExecuteTime": {
     "end_time": "2021-06-02T07:24:36.010343Z",
     "start_time": "2021-06-02T07:24:35.986406Z"
    }
   },
   "outputs": [],
   "source": []
  },
  {
   "cell_type": "markdown",
   "id": "3dd82e66",
   "metadata": {},
   "source": [
    "**문제3** 다음의 코드를 작성하여라. \n",
    "\n",
    "(1) 리스트를 이용하여 3, 4, 5, 6, 7, 8, 9를 출력하여라."
   ]
  },
  {
   "cell_type": "code",
   "execution_count": null,
   "id": "8e71b96f",
   "metadata": {
    "ExecuteTime": {
     "end_time": "2021-06-02T07:24:36.074172Z",
     "start_time": "2021-06-02T07:24:36.063202Z"
    }
   },
   "outputs": [],
   "source": []
  },
  {
   "cell_type": "markdown",
   "id": "67a572d8",
   "metadata": {},
   "source": [
    "(2) 리스트를 이용하여 1과 100사이의 7의 배수를 출력하여라."
   ]
  },
  {
   "cell_type": "code",
   "execution_count": null,
   "id": "28ade6b1",
   "metadata": {
    "ExecuteTime": {
     "end_time": "2021-06-02T07:24:36.138001Z",
     "start_time": "2021-06-02T07:24:36.124039Z"
    }
   },
   "outputs": [],
   "source": []
  },
  {
   "cell_type": "markdown",
   "id": "bd79be40",
   "metadata": {},
   "source": [
    "# for 문\n",
    "\n",
    ">for문은 반복문에 사용된다. \n",
    "\n",
    "--- \n",
    "\n",
    "for 문의 기본 구조는 다음과 같다. "
   ]
  },
  {
   "cell_type": "raw",
   "id": "94b72c8e",
   "metadata": {},
   "source": [
    "for 변수 in 범위(리스트) : \n",
    "   수행문장 "
   ]
  },
  {
   "cell_type": "markdown",
   "id": "98d81b09",
   "metadata": {},
   "source": [
    "**예제4** for문을 활용하여 다음을 코드로 작성하여라.\n",
    "\n",
    "(1) 1, 2, 3, 4를 출력하여라. "
   ]
  },
  {
   "cell_type": "code",
   "execution_count": null,
   "id": "42ac34bc",
   "metadata": {
    "ExecuteTime": {
     "end_time": "2021-06-02T07:24:36.246710Z",
     "start_time": "2021-06-02T07:24:36.234742Z"
    }
   },
   "outputs": [],
   "source": []
  },
  {
   "cell_type": "markdown",
   "id": "21b82ad9",
   "metadata": {},
   "source": [
    "(2) 1, 3, 5, 7, 9를 출력하여라. "
   ]
  },
  {
   "cell_type": "code",
   "execution_count": null,
   "id": "637faddb",
   "metadata": {
    "ExecuteTime": {
     "end_time": "2021-06-02T07:24:36.308548Z",
     "start_time": "2021-06-02T07:24:36.294581Z"
    }
   },
   "outputs": [],
   "source": []
  },
  {
   "cell_type": "markdown",
   "id": "4e50f3a4",
   "metadata": {},
   "source": [
    "(3) 1부터 10까지의 수의 합을 구하여라. "
   ]
  },
  {
   "cell_type": "code",
   "execution_count": null,
   "id": "ae8911da",
   "metadata": {
    "ExecuteTime": {
     "end_time": "2021-06-02T07:24:36.356416Z",
     "start_time": "2021-06-02T07:24:36.346476Z"
    }
   },
   "outputs": [],
   "source": []
  },
  {
   "cell_type": "markdown",
   "id": "fbc4f79d",
   "metadata": {},
   "source": [
    "(4) 1부터 10까지의 수의 곱을 구하여라. "
   ]
  },
  {
   "cell_type": "code",
   "execution_count": null,
   "id": "d021a775",
   "metadata": {
    "ExecuteTime": {
     "end_time": "2021-06-02T07:24:36.404288Z",
     "start_time": "2021-06-02T07:24:36.388363Z"
    }
   },
   "outputs": [],
   "source": []
  },
  {
   "cell_type": "markdown",
   "id": "5b89d97c",
   "metadata": {},
   "source": [
    "**문제4** for문을 활용하여 다음을 코드로 작성하여라.\n",
    "\n",
    "(1) 1과 100사이의 9의 배수를 출력하여라."
   ]
  },
  {
   "cell_type": "code",
   "execution_count": null,
   "id": "fe84c788",
   "metadata": {
    "ExecuteTime": {
     "end_time": "2021-06-02T07:24:36.467120Z",
     "start_time": "2021-06-02T07:24:36.447174Z"
    }
   },
   "outputs": [],
   "source": []
  },
  {
   "cell_type": "markdown",
   "id": "c9d4b6fe",
   "metadata": {},
   "source": [
    "(2) 1과 100사이의 짝수의 합을 구하여라. "
   ]
  },
  {
   "cell_type": "code",
   "execution_count": null,
   "id": "d4f5cff7",
   "metadata": {
    "ExecuteTime": {
     "end_time": "2021-06-02T07:24:36.529954Z",
     "start_time": "2021-06-02T07:24:36.520978Z"
    }
   },
   "outputs": [],
   "source": []
  },
  {
   "cell_type": "markdown",
   "id": "1c50e428",
   "metadata": {},
   "source": [
    "# 도전하기 \n",
    "\n",
    "for문을 활용하여 아래와 같은 2단 구구단표를 출력하여라.\n",
    "\n",
    "```\n",
    "2  *  1  =  2\n",
    "2  *  2  =  4\n",
    "2  *  3  =  6\n",
    "2  *  4  =  8\n",
    "2  *  5  =  10\n",
    "2  *  6  =  12\n",
    "2  *  7  =  14\n",
    "2  *  8  =  16\n",
    "2  *  9  =  18\n",
    "```"
   ]
  },
  {
   "cell_type": "code",
   "execution_count": null,
   "id": "b421f426",
   "metadata": {
    "ExecuteTime": {
     "end_time": "2021-06-02T07:24:36.609739Z",
     "start_time": "2021-06-02T07:24:36.596776Z"
    }
   },
   "outputs": [],
   "source": []
  },
  {
   "cell_type": "markdown",
   "id": "3fddd9f6",
   "metadata": {},
   "source": [
    "# def 함수\n",
    "\n",
    "> def는 함수를 구성하기 위해 사용한다. \n",
    "\n",
    "---\n",
    "\n",
    "def의 기본구조는 다음과 같다. "
   ]
  },
  {
   "cell_type": "raw",
   "id": "e8f6864e",
   "metadata": {},
   "source": [
    "def 함수이름(변수) :\n",
    "    수행문장\n",
    "    return 결과값"
   ]
  },
  {
   "cell_type": "markdown",
   "id": "c56e19f8",
   "metadata": {},
   "source": [
    "**예제5** 다음을 코드로 작성하여라. \n",
    "\n",
    "(1) 두 수의 합을 구하는 함수 add를 만들어라. "
   ]
  },
  {
   "cell_type": "code",
   "execution_count": null,
   "id": "efce7f7e",
   "metadata": {
    "ExecuteTime": {
     "end_time": "2021-06-02T07:24:36.734405Z",
     "start_time": "2021-06-02T07:24:36.716454Z"
    }
   },
   "outputs": [],
   "source": []
  },
  {
   "cell_type": "markdown",
   "id": "992ed1f2",
   "metadata": {},
   "source": [
    "(2) 4와 8의 합을 함수 add로 확인하여라."
   ]
  },
  {
   "cell_type": "code",
   "execution_count": null,
   "id": "764c1753",
   "metadata": {
    "ExecuteTime": {
     "end_time": "2021-06-02T07:24:36.765362Z",
     "start_time": "2021-06-02T07:24:36.759340Z"
    }
   },
   "outputs": [],
   "source": []
  },
  {
   "cell_type": "markdown",
   "id": "0cc76b13",
   "metadata": {},
   "source": [
    "**문제5** 다음을 코드로 작성하여라. \n",
    "\n",
    "(1) 주어진 수의 제곱을 구하는 함수 square를 만들어라. "
   ]
  },
  {
   "cell_type": "code",
   "execution_count": null,
   "id": "101c58fe",
   "metadata": {
    "ExecuteTime": {
     "end_time": "2021-06-02T07:24:36.813207Z",
     "start_time": "2021-06-02T07:24:36.804220Z"
    }
   },
   "outputs": [],
   "source": []
  },
  {
   "cell_type": "markdown",
   "id": "781a2239",
   "metadata": {},
   "source": [
    "(2) 4와 15의 제곱을 함수 square로 각각 확인하여라. "
   ]
  },
  {
   "cell_type": "code",
   "execution_count": null,
   "id": "e93b87c9",
   "metadata": {
    "ExecuteTime": {
     "end_time": "2021-06-02T07:24:36.861079Z",
     "start_time": "2021-06-02T07:24:36.852093Z"
    }
   },
   "outputs": [],
   "source": []
  },
  {
   "cell_type": "code",
   "execution_count": null,
   "id": "0ef0bdbf",
   "metadata": {
    "ExecuteTime": {
     "end_time": "2021-06-02T07:24:36.907974Z",
     "start_time": "2021-06-02T07:24:36.887995Z"
    }
   },
   "outputs": [],
   "source": []
  },
  {
   "cell_type": "markdown",
   "id": "2a991e8f",
   "metadata": {},
   "source": [
    "# 도전하기\n",
    "\n",
    "n단 구구단을 출력하는 함수 gugudan을 만들어라. "
   ]
  },
  {
   "cell_type": "code",
   "execution_count": null,
   "id": "bdc06572",
   "metadata": {
    "ExecuteTime": {
     "end_time": "2021-06-02T07:24:36.955815Z",
     "start_time": "2021-06-02T07:24:36.948832Z"
    }
   },
   "outputs": [],
   "source": []
  },
  {
   "cell_type": "code",
   "execution_count": null,
   "id": "244ae9e9",
   "metadata": {
    "ExecuteTime": {
     "end_time": "2021-06-02T07:24:37.002687Z",
     "start_time": "2021-06-02T07:24:36.980746Z"
    }
   },
   "outputs": [],
   "source": []
  }
 ],
 "metadata": {
  "hide_input": false,
  "kernelspec": {
   "display_name": "Python 3",
   "language": "python",
   "name": "python3"
  },
  "language_info": {
   "codemirror_mode": {
    "name": "ipython",
    "version": 3
   },
   "file_extension": ".py",
   "mimetype": "text/x-python",
   "name": "python",
   "nbconvert_exporter": "python",
   "pygments_lexer": "ipython3",
   "version": "3.7.7"
  },
  "nbTranslate": {
   "displayLangs": [
    "*"
   ],
   "hotkey": "alt-t",
   "langInMainMenu": true,
   "sourceLang": "en",
   "targetLang": "fr",
   "useGoogleTranslate": true
  },
  "toc": {
   "base_numbering": 1,
   "nav_menu": {},
   "number_sections": true,
   "sideBar": true,
   "skip_h1_title": false,
   "title_cell": "Table of Contents",
   "title_sidebar": "Contents",
   "toc_cell": false,
   "toc_position": {},
   "toc_section_display": true,
   "toc_window_display": false
  },
  "varInspector": {
   "cols": {
    "lenName": 16,
    "lenType": 16,
    "lenVar": 40
   },
   "kernels_config": {
    "python": {
     "delete_cmd_postfix": "",
     "delete_cmd_prefix": "del ",
     "library": "var_list.py",
     "varRefreshCmd": "print(var_dic_list())"
    },
    "r": {
     "delete_cmd_postfix": ") ",
     "delete_cmd_prefix": "rm(",
     "library": "var_list.r",
     "varRefreshCmd": "cat(var_dic_list()) "
    }
   },
   "types_to_exclude": [
    "module",
    "function",
    "builtin_function_or_method",
    "instance",
    "_Feature"
   ],
   "window_display": false
  }
 },
 "nbformat": 4,
 "nbformat_minor": 5
}
