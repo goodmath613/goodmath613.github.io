{
 "cells": [
  {
   "cell_type": "markdown",
   "id": "5fa09369",
   "metadata": {},
   "source": [
    "# 이미지 특성 파악하기\n",
    "\n",
    "**예제1** 필요한 라이브러리(pandas, numpy, seaborn, PIL.Image, matplotlib.pyplot)를 불러오자. "
   ]
  },
  {
   "cell_type": "code",
   "execution_count": null,
   "id": "46478bad",
   "metadata": {
    "ExecuteTime": {
     "end_time": "2021-08-17T02:26:38.334634Z",
     "start_time": "2021-08-17T02:26:36.988084Z"
    }
   },
   "outputs": [],
   "source": [
    "import pandas as pd\n",
    "import numpy as np\n",
    "import PIL.Image as pilimg\n",
    "import matplotlib.pyplot as plt"
   ]
  },
  {
   "cell_type": "markdown",
   "id": "be67d5fc",
   "metadata": {},
   "source": [
    "**예제2** 다음의 코드를 작성하여라. \n",
    "\n",
    "(1) 그림판에서 그린 그림을 흑백으로 불러와서 im이라 하여라."
   ]
  },
  {
   "cell_type": "code",
   "execution_count": null,
   "id": "fd71e19b",
   "metadata": {
    "ExecuteTime": {
     "end_time": "2021-08-17T02:26:38.382508Z",
     "start_time": "2021-08-17T02:26:38.337628Z"
    }
   },
   "outputs": [],
   "source": []
  },
  {
   "cell_type": "markdown",
   "id": "522aa1fe",
   "metadata": {},
   "source": [
    "(2) im을 numpy 배열로 생성하여 pix라 하여라.\n",
    "\n",
    "| 활용법 | 설명 | \n",
    "| :---: | :---: |\n",
    "| numpy.array(데이터) | 데이터를 numpy 배열로 바꾼다. |"
   ]
  },
  {
   "cell_type": "code",
   "execution_count": null,
   "id": "069c7a88",
   "metadata": {
    "ExecuteTime": {
     "end_time": "2021-08-17T02:26:38.398465Z",
     "start_time": "2021-08-17T02:26:38.388493Z"
    }
   },
   "outputs": [],
   "source": []
  },
  {
   "cell_type": "markdown",
   "id": "83144703",
   "metadata": {},
   "source": [
    "(3) pix의 크기를 확인하여라. "
   ]
  },
  {
   "cell_type": "code",
   "execution_count": null,
   "id": "bccfb4fe",
   "metadata": {
    "ExecuteTime": {
     "end_time": "2021-08-17T02:26:38.414422Z",
     "start_time": "2021-08-17T02:26:38.404452Z"
    }
   },
   "outputs": [],
   "source": []
  },
  {
   "cell_type": "markdown",
   "id": "fd2753e5",
   "metadata": {},
   "source": [
    "**예제3** 다음의 코드를 작성하여라. \n",
    "\n",
    "| 활용법 | 설명 | \n",
    "| :---: | :---: |\n",
    "| 데이터.resize((m, n)) | 데이터의 크기를 m * n으로 줄인다.|\n",
    "\n",
    "(1) im의 크기를 13 * 13으로 줄여서 im_re라 하여라."
   ]
  },
  {
   "cell_type": "code",
   "execution_count": null,
   "id": "9a0d48fc",
   "metadata": {
    "ExecuteTime": {
     "end_time": "2021-08-17T02:26:38.446337Z",
     "start_time": "2021-08-17T02:26:38.422401Z"
    }
   },
   "outputs": [],
   "source": []
  },
  {
   "cell_type": "markdown",
   "id": "a0ae2c04",
   "metadata": {},
   "source": [
    "(2) im_re를 numpy 배열로 생성하여 pix1라 하여라."
   ]
  },
  {
   "cell_type": "code",
   "execution_count": null,
   "id": "5a44dd91",
   "metadata": {
    "ExecuteTime": {
     "end_time": "2021-08-17T02:26:38.461303Z",
     "start_time": "2021-08-17T02:26:38.452322Z"
    }
   },
   "outputs": [],
   "source": []
  },
  {
   "cell_type": "markdown",
   "id": "e8606a0c",
   "metadata": {},
   "source": [
    "**예제4** 다음의 코드를 작성하여라. \n",
    "\n",
    "(1) pix1의 이미지를 출력하여라. "
   ]
  },
  {
   "cell_type": "code",
   "execution_count": null,
   "id": "1bac48be",
   "metadata": {
    "ExecuteTime": {
     "end_time": "2021-08-17T02:26:38.683858Z",
     "start_time": "2021-08-17T02:26:38.464294Z"
    }
   },
   "outputs": [],
   "source": []
  },
  {
   "cell_type": "markdown",
   "id": "eacf781a",
   "metadata": {},
   "source": [
    "(2) pix의 이미지를 출력하여라. "
   ]
  },
  {
   "cell_type": "code",
   "execution_count": null,
   "id": "02e4b55c",
   "metadata": {
    "ExecuteTime": {
     "end_time": "2021-08-17T02:26:38.889311Z",
     "start_time": "2021-08-17T02:26:38.687851Z"
    }
   },
   "outputs": [],
   "source": []
  },
  {
   "cell_type": "markdown",
   "id": "5f90f68b",
   "metadata": {},
   "source": [
    "# 머신러닝 실습하기\n",
    "\n",
    "**예제5** 다음의 코드를 작성하여라. \n",
    "\n",
    "(1) 'mnist_test.csv'를 불러와서 df라 하여라. "
   ]
  },
  {
   "cell_type": "code",
   "execution_count": null,
   "id": "30ab8934",
   "metadata": {
    "ExecuteTime": {
     "end_time": "2021-08-17T02:26:39.686180Z",
     "start_time": "2021-08-17T02:26:38.892302Z"
    },
    "scrolled": true
   },
   "outputs": [],
   "source": []
  },
  {
   "cell_type": "markdown",
   "id": "4eb18918",
   "metadata": {},
   "source": [
    "(2) df의 칼럼을 확인하여라. "
   ]
  },
  {
   "cell_type": "code",
   "execution_count": null,
   "id": "cf0205fd",
   "metadata": {
    "ExecuteTime": {
     "end_time": "2021-08-17T02:26:39.702139Z",
     "start_time": "2021-08-17T02:26:39.688176Z"
    }
   },
   "outputs": [],
   "source": []
  },
  {
   "cell_type": "markdown",
   "id": "9dd62b97",
   "metadata": {},
   "source": [
    "(3) df의 'label'열을 target이라하고, df에서 'label'열을 제외한 데이터를 data라 하여라. "
   ]
  },
  {
   "cell_type": "code",
   "execution_count": null,
   "id": "04ecca2a",
   "metadata": {
    "ExecuteTime": {
     "end_time": "2021-08-17T02:26:39.763972Z",
     "start_time": "2021-08-17T02:26:39.706129Z"
    }
   },
   "outputs": [],
   "source": []
  },
  {
   "cell_type": "markdown",
   "id": "36e4e7a9",
   "metadata": {},
   "source": [
    "(4) target의 크기를 확인하여라. "
   ]
  },
  {
   "cell_type": "code",
   "execution_count": null,
   "id": "0da6dcb5",
   "metadata": {
    "ExecuteTime": {
     "end_time": "2021-08-17T02:26:39.779930Z",
     "start_time": "2021-08-17T02:26:39.768958Z"
    }
   },
   "outputs": [],
   "source": []
  },
  {
   "cell_type": "markdown",
   "id": "a93d674a",
   "metadata": {},
   "source": [
    "(5) data의 크기를 확인하여라. "
   ]
  },
  {
   "cell_type": "code",
   "execution_count": null,
   "id": "072a8dbb",
   "metadata": {
    "ExecuteTime": {
     "end_time": "2021-08-17T02:26:39.795890Z",
     "start_time": "2021-08-17T02:26:39.783935Z"
    }
   },
   "outputs": [],
   "source": []
  },
  {
   "cell_type": "markdown",
   "id": "8a8881f0",
   "metadata": {},
   "source": [
    "**예제6** 다음의 코드를 작성하여라. \n",
    "\n",
    "(1) target의 첫 번째 데이터를 확인하여라. "
   ]
  },
  {
   "cell_type": "code",
   "execution_count": null,
   "id": "186b2312",
   "metadata": {
    "ExecuteTime": {
     "end_time": "2021-08-17T02:26:39.811844Z",
     "start_time": "2021-08-17T02:26:39.801873Z"
    }
   },
   "outputs": [],
   "source": []
  },
  {
   "cell_type": "markdown",
   "id": "1a008605",
   "metadata": {},
   "source": [
    "(2) data의 첫 번째 데이터를 확인하여라."
   ]
  },
  {
   "cell_type": "code",
   "execution_count": null,
   "id": "f279100d",
   "metadata": {
    "ExecuteTime": {
     "end_time": "2021-08-17T02:26:39.843759Z",
     "start_time": "2021-08-17T02:26:39.815836Z"
    }
   },
   "outputs": [],
   "source": []
  },
  {
   "cell_type": "markdown",
   "id": "db79d975",
   "metadata": {},
   "source": [
    "(3) data의 첫번째 데이터를 이미지로 출력하여라. "
   ]
  },
  {
   "cell_type": "code",
   "execution_count": null,
   "id": "e0e02813",
   "metadata": {
    "ExecuteTime": {
     "end_time": "2021-08-17T02:26:40.018297Z",
     "start_time": "2021-08-17T02:26:39.847756Z"
    }
   },
   "outputs": [],
   "source": []
  },
  {
   "cell_type": "markdown",
   "id": "c266685d",
   "metadata": {},
   "source": [
    "**예제7** 다음의 코드를 작성하여라. \n",
    "\n",
    "(1) 데이터를 훈련 데이터와 테스트 데이터로 4:1의 비율로 나누어라."
   ]
  },
  {
   "cell_type": "code",
   "execution_count": null,
   "id": "ccd69f07",
   "metadata": {
    "ExecuteTime": {
     "end_time": "2021-08-17T02:26:41.949269Z",
     "start_time": "2021-08-17T02:26:40.021285Z"
    }
   },
   "outputs": [],
   "source": [
    "from sklearn.model_selection import train_test_split\n",
    "xtrain, xtest, ytrain, ytest "
   ]
  },
  {
   "cell_type": "markdown",
   "id": "9ec75326",
   "metadata": {},
   "source": [
    "(2) xtrain의 크기를 확인하여라. "
   ]
  },
  {
   "cell_type": "code",
   "execution_count": null,
   "id": "a3c9039f",
   "metadata": {
    "ExecuteTime": {
     "end_time": "2021-08-17T02:26:41.964195Z",
     "start_time": "2021-08-17T02:26:41.951230Z"
    }
   },
   "outputs": [],
   "source": []
  },
  {
   "cell_type": "markdown",
   "id": "8be77c88",
   "metadata": {},
   "source": [
    "(3) xtest의 크기를 확인하여라. "
   ]
  },
  {
   "cell_type": "code",
   "execution_count": null,
   "id": "c602391b",
   "metadata": {
    "ExecuteTime": {
     "end_time": "2021-08-17T02:26:41.980153Z",
     "start_time": "2021-08-17T02:26:41.968185Z"
    }
   },
   "outputs": [],
   "source": []
  },
  {
   "cell_type": "markdown",
   "id": "cb1c5b31",
   "metadata": {},
   "source": [
    "**예제8** 다음의 코드를 작성하여라. \n",
    "\n",
    "(1) 랜덤포레스트를 이용하여 훈련 데이터를 훈련시켜라."
   ]
  },
  {
   "cell_type": "code",
   "execution_count": null,
   "id": "1ab7a993",
   "metadata": {
    "ExecuteTime": {
     "end_time": "2021-08-17T02:26:47.321004Z",
     "start_time": "2021-08-17T02:26:41.985142Z"
    }
   },
   "outputs": [],
   "source": [
    "from sklearn.ensemble import RandomForestClassifier\n"
   ]
  },
  {
   "cell_type": "markdown",
   "id": "727e4565",
   "metadata": {},
   "source": [
    "(2) 모델의 정확도를 확인하여라. "
   ]
  },
  {
   "cell_type": "code",
   "execution_count": null,
   "id": "0f3a6b28",
   "metadata": {
    "ExecuteTime": {
     "end_time": "2021-08-17T02:26:47.448695Z",
     "start_time": "2021-08-17T02:26:47.323996Z"
    }
   },
   "outputs": [],
   "source": []
  },
  {
   "cell_type": "markdown",
   "id": "b6e9cd24",
   "metadata": {},
   "source": [
    "(3) data의 1000번째 데이터를 이미지로 출력하여라. "
   ]
  },
  {
   "cell_type": "code",
   "execution_count": null,
   "id": "acd22229",
   "metadata": {
    "ExecuteTime": {
     "end_time": "2021-08-17T02:26:47.622199Z",
     "start_time": "2021-08-17T02:26:47.450657Z"
    }
   },
   "outputs": [],
   "source": []
  },
  {
   "cell_type": "markdown",
   "id": "59c9738a",
   "metadata": {},
   "source": [
    "(4) target의 1000번째 값을 확인하여라. "
   ]
  },
  {
   "cell_type": "code",
   "execution_count": null,
   "id": "d51b4b2a",
   "metadata": {
    "ExecuteTime": {
     "end_time": "2021-08-17T02:26:47.653322Z",
     "start_time": "2021-08-17T02:26:47.629181Z"
    }
   },
   "outputs": [],
   "source": []
  },
  {
   "cell_type": "markdown",
   "id": "08f4bb30",
   "metadata": {},
   "source": [
    "(5) data의 1000번째 값을 예측하여라. "
   ]
  },
  {
   "cell_type": "code",
   "execution_count": null,
   "id": "f559e09e",
   "metadata": {
    "ExecuteTime": {
     "end_time": "2021-08-17T02:26:47.701191Z",
     "start_time": "2021-08-17T02:26:47.661301Z"
    }
   },
   "outputs": [],
   "source": []
  },
  {
   "cell_type": "markdown",
   "id": "9f8b0e42",
   "metadata": {},
   "source": [
    "# 손글씨를 머신러닝으로 예측해보기\n",
    "\n",
    "**예제9** 다음의 코드를 작성하여라. \n",
    "\n",
    "(1) 이미지를 불러와서 img1이라 하여라.  "
   ]
  },
  {
   "cell_type": "code",
   "execution_count": null,
   "id": "4e6e426d",
   "metadata": {
    "ExecuteTime": {
     "end_time": "2021-08-17T02:26:47.717152Z",
     "start_time": "2021-08-17T02:26:47.705182Z"
    }
   },
   "outputs": [],
   "source": []
  },
  {
   "cell_type": "markdown",
   "id": "afd6a652",
   "metadata": {},
   "source": [
    "(2) img1을 출력하여라. "
   ]
  },
  {
   "cell_type": "code",
   "execution_count": null,
   "id": "76d4e897",
   "metadata": {
    "ExecuteTime": {
     "end_time": "2021-08-17T02:26:47.748066Z",
     "start_time": "2021-08-17T02:26:47.726128Z"
    }
   },
   "outputs": [],
   "source": []
  },
  {
   "cell_type": "markdown",
   "id": "cfc0840d",
   "metadata": {},
   "source": [
    "(3) img1을 numpy 배열로 생성하여라. 단, 제공된 이미지와 형식을 맞추기 위해 모든 값을 255에서 뺀 값으로 바꾸어라. "
   ]
  },
  {
   "cell_type": "code",
   "execution_count": null,
   "id": "9e87add5",
   "metadata": {
    "ExecuteTime": {
     "end_time": "2021-08-17T02:26:47.764023Z",
     "start_time": "2021-08-17T02:26:47.751062Z"
    }
   },
   "outputs": [],
   "source": []
  },
  {
   "cell_type": "markdown",
   "id": "4f115fc4",
   "metadata": {},
   "source": [
    "(4) pix2을 이미지로 출력하여라."
   ]
  },
  {
   "cell_type": "code",
   "execution_count": null,
   "id": "0427b4b4",
   "metadata": {
    "ExecuteTime": {
     "end_time": "2021-08-17T02:26:47.953518Z",
     "start_time": "2021-08-17T02:26:47.768013Z"
    }
   },
   "outputs": [],
   "source": []
  },
  {
   "cell_type": "markdown",
   "id": "78143e72",
   "metadata": {},
   "source": [
    "(5) pix2를 예측하여라."
   ]
  },
  {
   "cell_type": "code",
   "execution_count": null,
   "id": "ac764ef8",
   "metadata": {
    "ExecuteTime": {
     "end_time": "2021-08-17T02:26:48.001388Z",
     "start_time": "2021-08-17T02:26:47.956509Z"
    }
   },
   "outputs": [],
   "source": []
  }
 ],
 "metadata": {
  "hide_input": false,
  "kernelspec": {
   "display_name": "Python 3",
   "language": "python",
   "name": "python3"
  },
  "language_info": {
   "codemirror_mode": {
    "name": "ipython",
    "version": 3
   },
   "file_extension": ".py",
   "mimetype": "text/x-python",
   "name": "python",
   "nbconvert_exporter": "python",
   "pygments_lexer": "ipython3",
   "version": "3.7.7"
  },
  "nbTranslate": {
   "displayLangs": [
    "*"
   ],
   "hotkey": "alt-t",
   "langInMainMenu": true,
   "sourceLang": "en",
   "targetLang": "fr",
   "useGoogleTranslate": true
  },
  "toc": {
   "base_numbering": 1,
   "nav_menu": {},
   "number_sections": true,
   "sideBar": true,
   "skip_h1_title": false,
   "title_cell": "Table of Contents",
   "title_sidebar": "Contents",
   "toc_cell": false,
   "toc_position": {},
   "toc_section_display": true,
   "toc_window_display": false
  },
  "varInspector": {
   "cols": {
    "lenName": 16,
    "lenType": 16,
    "lenVar": 40
   },
   "kernels_config": {
    "python": {
     "delete_cmd_postfix": "",
     "delete_cmd_prefix": "del ",
     "library": "var_list.py",
     "varRefreshCmd": "print(var_dic_list())"
    },
    "r": {
     "delete_cmd_postfix": ") ",
     "delete_cmd_prefix": "rm(",
     "library": "var_list.r",
     "varRefreshCmd": "cat(var_dic_list()) "
    }
   },
   "types_to_exclude": [
    "module",
    "function",
    "builtin_function_or_method",
    "instance",
    "_Feature"
   ],
   "window_display": false
  }
 },
 "nbformat": 4,
 "nbformat_minor": 5
}
