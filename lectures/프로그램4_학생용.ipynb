{
 "cells": [
  {
   "cell_type": "markdown",
   "id": "2684c2e7",
   "metadata": {},
   "source": [
    "---\n",
    "\n",
    "* 코드를 작성 후 \"Shift + Enter\"를 누르거나, 상단의 Run을 클릭하면 코드가 실행 된다. \n",
    "\n",
    "---\n",
    "\n",
    "# 데이터 불러오기\n",
    "\n",
    "**예제1** 분석할 데이터 특성을 파악하고, 저장하여라. \n",
    "\n",
    "(1) 교육통계서비스(KESS)에서 '학교/학과별 데이터셋'의 데이터를 받아서 데이터를 살펴보아라.  \n",
    "\n",
    "https://kess.kedi.re.kr/index 알림$\\cdot$서비스 > 주요요청자료 > 학교/학과별 데이터셋 > 유$\\cdot$초등$\\cdot$중등 > 다운로드(상반기 - 2020)"
   ]
  },
  {
   "cell_type": "markdown",
   "id": "71c7911f",
   "metadata": {},
   "source": [
    "(2) Excel 데이터의 첫번째 시트를 'data.csv'로 저장하여라. "
   ]
  },
  {
   "cell_type": "markdown",
   "id": "3a1c2d57",
   "metadata": {},
   "source": [
    "**예제2** numpy를 np라는 이름으로, pandas를 pd라는 이름으로 불러오자."
   ]
  },
  {
   "cell_type": "code",
   "execution_count": 1,
   "id": "238082c7",
   "metadata": {
    "ExecuteTime": {
     "end_time": "2021-08-17T03:39:12.313274Z",
     "start_time": "2021-08-17T03:39:11.540341Z"
    }
   },
   "outputs": [],
   "source": [
    "import pandas as pd\n",
    "import numpy as np"
   ]
  },
  {
   "cell_type": "markdown",
   "id": "d1b26a86",
   "metadata": {},
   "source": [
    "**예제3** 'data.csv'파일의 14번째 열부터 data라는 이름으로 불러오자. "
   ]
  },
  {
   "cell_type": "code",
   "execution_count": null,
   "id": "7bffc8b9",
   "metadata": {
    "ExecuteTime": {
     "end_time": "2021-06-15T08:09:44.655583Z",
     "start_time": "2021-06-15T08:09:44.160113Z"
    }
   },
   "outputs": [],
   "source": []
  },
  {
   "cell_type": "markdown",
   "id": "0189b0e3",
   "metadata": {},
   "source": [
    "# 데이터 선택하기 \n",
    "\n",
    "**예제4** data의 칼럼을 출력하여라. "
   ]
  },
  {
   "cell_type": "code",
   "execution_count": null,
   "id": "d57df7d9",
   "metadata": {
    "ExecuteTime": {
     "end_time": "2021-06-15T08:09:44.691487Z",
     "start_time": "2021-06-15T08:09:44.655583Z"
    }
   },
   "outputs": [],
   "source": []
  },
  {
   "cell_type": "markdown",
   "id": "2e5b6163",
   "metadata": {},
   "source": [
    "**예제5** '시도', '행정구', '학교급', '학교명','학생수_총계_계', '교원수_총계_계'열을 선택하여 data에 할당하여라. "
   ]
  },
  {
   "cell_type": "code",
   "execution_count": null,
   "id": "ca53fd8b",
   "metadata": {
    "ExecuteTime": {
     "end_time": "2021-06-15T08:09:44.738365Z",
     "start_time": "2021-06-15T08:09:44.696471Z"
    }
   },
   "outputs": [],
   "source": []
  },
  {
   "cell_type": "markdown",
   "id": "7499afaa",
   "metadata": {},
   "source": [
    "# 유일한 값 출력하기\n",
    " \n",
    "  |   활용법  |   설명   |\n",
    "  |:--------:|:--------:|\n",
    "  |   데이터프레임['열이름'].unique()    |   데이터프레임의 해당 열의 값을 출력한다. 단, 중복되지 않은 유일한 값을 출력한다. |\n",
    "  \n",
    "**예제6** '학교급'열의 값을 확인하여라. "
   ]
  },
  {
   "cell_type": "code",
   "execution_count": null,
   "id": "4466e301",
   "metadata": {
    "ExecuteTime": {
     "end_time": "2021-06-15T08:09:44.754317Z",
     "start_time": "2021-06-15T08:09:44.741352Z"
    }
   },
   "outputs": [],
   "source": []
  },
  {
   "cell_type": "markdown",
   "id": "fc0f8180",
   "metadata": {},
   "source": [
    "**문제1** 다음의 코드를 작성하여라. \n",
    "\n",
    "(1) '시도'열의 값을 확인하여라. "
   ]
  },
  {
   "cell_type": "code",
   "execution_count": null,
   "id": "33630ff1",
   "metadata": {
    "ExecuteTime": {
     "end_time": "2021-06-15T08:09:44.769277Z",
     "start_time": "2021-06-15T08:09:44.757309Z"
    }
   },
   "outputs": [],
   "source": []
  },
  {
   "cell_type": "markdown",
   "id": "abbf5dac",
   "metadata": {},
   "source": [
    "(2) '행정구'열의 값을 확인하여라. "
   ]
  },
  {
   "cell_type": "code",
   "execution_count": null,
   "id": "685d103d",
   "metadata": {
    "ExecuteTime": {
     "end_time": "2021-06-15T08:09:44.785234Z",
     "start_time": "2021-06-15T08:09:44.772271Z"
    }
   },
   "outputs": [],
   "source": []
  },
  {
   "cell_type": "markdown",
   "id": "adb92c2e",
   "metadata": {},
   "source": [
    "**예제7** data의 '학교급'이 '중학교'인 값만 선택하여 df에 할당하여라. "
   ]
  },
  {
   "cell_type": "code",
   "execution_count": null,
   "id": "54fdd465",
   "metadata": {
    "ExecuteTime": {
     "end_time": "2021-06-15T08:09:44.800199Z",
     "start_time": "2021-06-15T08:09:44.788226Z"
    }
   },
   "outputs": [],
   "source": []
  },
  {
   "cell_type": "markdown",
   "id": "fd0472fe",
   "metadata": {},
   "source": [
    "**문제2** df의 '시도'가 '부산'인 값만 선택하여 df에 할당하여라. "
   ]
  },
  {
   "cell_type": "code",
   "execution_count": null,
   "id": "f98f41de",
   "metadata": {
    "ExecuteTime": {
     "end_time": "2021-06-15T08:09:44.831113Z",
     "start_time": "2021-06-15T08:09:44.807177Z"
    }
   },
   "outputs": [],
   "source": []
  },
  {
   "cell_type": "markdown",
   "id": "d49c7102",
   "metadata": {},
   "source": [
    "# 데이터프레임의 칼럼명 바꾸기\n",
    "\n",
    "  |   활용법  |   설명   |\n",
    "  |:--------:|:--------:|\n",
    "  |   데이터프레임.rename(columns={A : A'})  |  데이터프레임의 칼럼명을 A에서 A'로 바꾼다. |\n",
    "\n",
    "**예제8** df의 열의 이름을 '학생수_총계_계'에서 '학생수'로, '교원수_총계_계'에서 '교원수'로 바꾸어라. "
   ]
  },
  {
   "cell_type": "code",
   "execution_count": null,
   "id": "5d9ab9e2",
   "metadata": {
    "ExecuteTime": {
     "end_time": "2021-06-15T08:09:44.847069Z",
     "start_time": "2021-06-15T08:09:44.834105Z"
    }
   },
   "outputs": [],
   "source": []
  },
  {
   "cell_type": "markdown",
   "id": "7b5e9c54",
   "metadata": {},
   "source": [
    "# 데이터프레임의 정보 확인하기\n",
    "\n",
    " |   활용법  |   설명   |\n",
    " |:--------:|:--------:|\n",
    " |   데이터프레임.head() |  데이터프레임의 처음 5개의 행을 확인한다. |\n",
    " |   데이터프레임.info()  |  데이터프레임의 정보를 확인한다. |\n",
    " |   데이터프레임.shape  |  데이터프레임의 크기를 확인한다. |\n",
    "\n",
    "**예제9** 다음의 코드를 작성하여라. \n",
    "\n",
    "(1) df의 처음 5개의 행을 확인하여라. "
   ]
  },
  {
   "cell_type": "code",
   "execution_count": null,
   "id": "aebc9770",
   "metadata": {
    "ExecuteTime": {
     "end_time": "2021-06-15T08:09:44.878983Z",
     "start_time": "2021-06-15T08:09:44.850062Z"
    }
   },
   "outputs": [],
   "source": []
  },
  {
   "cell_type": "markdown",
   "id": "8b114329",
   "metadata": {},
   "source": [
    "(2) df의 정보를 확인하여라. "
   ]
  },
  {
   "cell_type": "code",
   "execution_count": null,
   "id": "99affe5c",
   "metadata": {
    "ExecuteTime": {
     "end_time": "2021-06-15T08:09:44.911911Z",
     "start_time": "2021-06-15T08:09:44.880979Z"
    }
   },
   "outputs": [],
   "source": []
  },
  {
   "cell_type": "markdown",
   "id": "0c7c95d3",
   "metadata": {},
   "source": [
    "# 데이터의 타입 바꾸기\n",
    "\n",
    " |   활용법  |   설명   |\n",
    " |:--------:|:--------:|\n",
    " |   데이터프레임.str.replace(a, b) |  a 값을 b로 바꾼다. |\n",
    " |   astype(type)  |  데이터 타입을 변경한다. |\n",
    "\n",
    "\n",
    "**예제10** 다음을 코드로 확인하여라. \n",
    "\n",
    "(1) df의 '학생수'의 type을 int64로 바꾸어라. "
   ]
  },
  {
   "cell_type": "code",
   "execution_count": null,
   "id": "508e5257",
   "metadata": {
    "ExecuteTime": {
     "end_time": "2021-06-15T08:09:44.926866Z",
     "start_time": "2021-06-15T08:09:44.918879Z"
    }
   },
   "outputs": [],
   "source": []
  },
  {
   "cell_type": "markdown",
   "id": "73d263a1",
   "metadata": {},
   "source": [
    "(2) df의 정보를 확인하여라. "
   ]
  },
  {
   "cell_type": "code",
   "execution_count": null,
   "id": "c431779e",
   "metadata": {
    "ExecuteTime": {
     "end_time": "2021-06-15T08:09:44.958771Z",
     "start_time": "2021-06-15T08:09:44.930846Z"
    }
   },
   "outputs": [],
   "source": []
  },
  {
   "cell_type": "markdown",
   "id": "4ea64e89",
   "metadata": {},
   "source": [
    "# 그룹별로 계산하기\n",
    "\n",
    " |   활용법  |   설명   |\n",
    " |:--------:|:--------:|\n",
    " | 데이터프레임.groupby('열이름').sum() |  해당열을 기준으로 데이터를 집계하여 합을 구한다.   |\n",
    " | 데이터프레임.groupby('열이름').count() |  해당열을 기준으로 데이터를 집계하여 개수을 구한다.   |\n",
    " | 데이터프레임.reset_index() | 데이터프레임의 인덱스를 초기화 한다. 기존의 인덱스가 하나의 열로 생성된다. | \n",
    "\n",
    "\n",
    "**예제11** 다음의 코드를 작성하여라. \n",
    "\n",
    "(1) df의 '행정구'가 같은 열들의 '학생수'와 '교원수'의 합을 구하여 df_1라 하여라. "
   ]
  },
  {
   "cell_type": "code",
   "execution_count": null,
   "id": "1a70224f",
   "metadata": {
    "ExecuteTime": {
     "end_time": "2021-06-15T08:09:44.974731Z",
     "start_time": "2021-06-15T08:09:44.960765Z"
    }
   },
   "outputs": [],
   "source": []
  },
  {
   "cell_type": "markdown",
   "id": "238d2556",
   "metadata": {},
   "source": [
    "(2) 인덱스를 데이터열에 추가하여라. "
   ]
  },
  {
   "cell_type": "code",
   "execution_count": null,
   "id": "867ef2a8",
   "metadata": {
    "ExecuteTime": {
     "end_time": "2021-06-15T08:09:44.990686Z",
     "start_time": "2021-06-15T08:09:44.978717Z"
    }
   },
   "outputs": [],
   "source": []
  },
  {
   "cell_type": "markdown",
   "id": "da56eeb1",
   "metadata": {},
   "source": [
    "(3) df_1의 처음 5개의 행을 확인하여라. "
   ]
  },
  {
   "cell_type": "code",
   "execution_count": null,
   "id": "0e7301bb",
   "metadata": {
    "ExecuteTime": {
     "end_time": "2021-06-15T08:09:45.022602Z",
     "start_time": "2021-06-15T08:09:44.994677Z"
    }
   },
   "outputs": [],
   "source": []
  },
  {
   "cell_type": "markdown",
   "id": "8cb027c8",
   "metadata": {},
   "source": [
    "**문제3** 다음의 코드를 작성하여라. \n",
    "\n",
    "(1) df의 '행정구'가 같은 열들의 '학교명'의 개수를 세어 df_2라 하여라. "
   ]
  },
  {
   "cell_type": "code",
   "execution_count": null,
   "id": "2e2323a5",
   "metadata": {
    "ExecuteTime": {
     "end_time": "2021-06-15T08:09:45.053518Z",
     "start_time": "2021-06-15T08:09:45.026591Z"
    }
   },
   "outputs": [],
   "source": []
  },
  {
   "cell_type": "markdown",
   "id": "519db42e",
   "metadata": {},
   "source": [
    "(2) 인덱스를 데이터열에 추가하여라. "
   ]
  },
  {
   "cell_type": "code",
   "execution_count": null,
   "id": "1af3fef7",
   "metadata": {
    "ExecuteTime": {
     "end_time": "2021-06-15T08:09:45.069515Z",
     "start_time": "2021-06-15T08:09:45.057512Z"
    }
   },
   "outputs": [],
   "source": []
  },
  {
   "cell_type": "markdown",
   "id": "c3669c08",
   "metadata": {},
   "source": [
    "(3) df_2의 처음 5개의 행을 확인하여라. "
   ]
  },
  {
   "cell_type": "code",
   "execution_count": null,
   "id": "f89cc443",
   "metadata": {
    "ExecuteTime": {
     "end_time": "2021-06-15T08:09:45.100393Z",
     "start_time": "2021-06-15T08:09:45.077459Z"
    }
   },
   "outputs": [],
   "source": []
  },
  {
   "cell_type": "markdown",
   "id": "dac81ae5",
   "metadata": {},
   "source": [
    "# 데이터프레임 합치기\n",
    "\n",
    " |   활용법  |   설명   |\n",
    " |:--------:|:--------:|\n",
    " | pandas.merge(왼쪽_데이터프레임, 오른쪽_데이터프레임, on='열이름') |  두 데이터프레임을 열이름을 기준으로 합친다.|\n",
    "\n",
    "**예제12** '행정구'를 기준으로 df_1과 df_2를 합하여라.  "
   ]
  },
  {
   "cell_type": "code",
   "execution_count": null,
   "id": "9ff010b5",
   "metadata": {
    "ExecuteTime": {
     "end_time": "2021-06-15T08:09:45.132306Z",
     "start_time": "2021-06-15T08:09:45.102387Z"
    }
   },
   "outputs": [],
   "source": []
  },
  {
   "cell_type": "markdown",
   "id": "f8b24fe3",
   "metadata": {},
   "source": [
    "# 시각화하기\n",
    "\n",
    " |   활용법  |   설명   |\n",
    " |:--------:|:--------:|\n",
    " | matplotlib.pyplot.rcParams['font.family'] = '글자체 이름' | 해당 글자체로 설정한다. | \n",
    " | seaborn.pointplot(data=데이터, x='열이름', y ='열이름') | 꺽은선 그래프를 그린다. | \n",
    " | seaborn.barplot(data=데이터, x='열이름', y ='열이름') | 막대 그래프를 그린다. | \n",
    " | ax_k=fig.add_subplot(mnk) | m행 n열의 배열의 k번째 자리에 해당 그래프를 그린다. 이때, 그래프의 옵션에 ax = ax_k를 넣는다.| \n",
    " | 데이터프레임.plot(kind='pie', autopct='%1.nf%%') | 비율 그래프를 그린다. 단, 확률을 소수점 n자리까지 표현한다. |  \n",
    "\n",
    "**예제13** matplotlib.pyplot을 plt라는 이름으로 불러오자. 단, 그래프의 한글이 깨짐을 방지하기 위하여 맑은고딕체를 설정하여라.  "
   ]
  },
  {
   "cell_type": "code",
   "execution_count": 2,
   "id": "f4d768a5",
   "metadata": {
    "ExecuteTime": {
     "end_time": "2021-08-17T03:39:12.725274Z",
     "start_time": "2021-08-17T03:39:12.316266Z"
    }
   },
   "outputs": [],
   "source": [
    "import matplotlib.pyplot as plt\n",
    "\n",
    "plt.rcParams['font.family'] = 'Malgun Gothic'"
   ]
  },
  {
   "cell_type": "markdown",
   "id": "8183fbb4",
   "metadata": {},
   "source": [
    "**문제4** gu_df의 꺽은선 그래프를 그려라. "
   ]
  },
  {
   "cell_type": "code",
   "execution_count": null,
   "id": "eca55bdf",
   "metadata": {
    "ExecuteTime": {
     "end_time": "2021-06-15T08:09:45.799615Z",
     "start_time": "2021-06-15T08:09:45.511608Z"
    }
   },
   "outputs": [],
   "source": []
  },
  {
   "cell_type": "markdown",
   "id": "ed9f5d59",
   "metadata": {},
   "source": [
    "**예제14** 다음의 코드를 작성하여라. \n",
    "\n",
    "(1) seaborn을 sns이라는 이름으로 불러오자."
   ]
  },
  {
   "cell_type": "code",
   "execution_count": 3,
   "id": "5722a798",
   "metadata": {
    "ExecuteTime": {
     "end_time": "2021-08-17T03:39:13.938189Z",
     "start_time": "2021-08-17T03:39:12.737244Z"
    }
   },
   "outputs": [],
   "source": [
    "import seaborn as sns"
   ]
  },
  {
   "cell_type": "markdown",
   "id": "530d3945",
   "metadata": {},
   "source": [
    "(2) 행정구별 학교수의 꺽은선 그래프를 그려라. 단, 그래프의 크기는 12 * 8로 설정하여라. "
   ]
  },
  {
   "cell_type": "code",
   "execution_count": null,
   "id": "ac2f6b7c",
   "metadata": {
    "ExecuteTime": {
     "end_time": "2021-06-15T08:09:46.709812Z",
     "start_time": "2021-06-15T08:09:46.477609Z"
    }
   },
   "outputs": [],
   "source": []
  },
  {
   "cell_type": "markdown",
   "id": "834e042c",
   "metadata": {},
   "source": [
    "**문제5** 다음의 코드를 작성하여라. \n",
    "\n",
    "(1) 행정구별 학교수의 막대 그래프를 그려라. 단, 그래프의 크기는 12 * 8로 설정하여라. "
   ]
  },
  {
   "cell_type": "code",
   "execution_count": null,
   "id": "b0260a90",
   "metadata": {
    "ExecuteTime": {
     "end_time": "2021-06-15T08:09:46.961610Z",
     "start_time": "2021-06-15T08:09:46.711768Z"
    }
   },
   "outputs": [],
   "source": []
  },
  {
   "cell_type": "markdown",
   "id": "533e69e5",
   "metadata": {},
   "source": [
    "(2) 행정구별 학생수의 막대 그래프를 그려라. 단, 그래프의 크기는 12 * 8로 설정하여라. "
   ]
  },
  {
   "cell_type": "code",
   "execution_count": null,
   "id": "37628d8a",
   "metadata": {
    "ExecuteTime": {
     "end_time": "2021-06-15T08:09:47.256222Z",
     "start_time": "2021-06-15T08:09:46.963975Z"
    }
   },
   "outputs": [],
   "source": []
  },
  {
   "cell_type": "markdown",
   "id": "83d38c5b",
   "metadata": {},
   "source": [
    "**예제15** 행정구별 학교수, 학생수, 교원수를 1열 3행의 그래프로 그려라. 단, 그래프의 크기는 12 * 12로 설정하여라. "
   ]
  },
  {
   "cell_type": "code",
   "execution_count": null,
   "id": "f8737164",
   "metadata": {
    "ExecuteTime": {
     "end_time": "2021-06-15T08:09:48.004317Z",
     "start_time": "2021-06-15T08:09:47.261195Z"
    }
   },
   "outputs": [],
   "source": []
  },
  {
   "cell_type": "markdown",
   "id": "6bf123af",
   "metadata": {},
   "source": [
    "**예제16** 행정구별 학생수의 비율 그래프를 그려라. 단, 그래프의 크기는 10 * 10로 설정하여라."
   ]
  },
  {
   "cell_type": "code",
   "execution_count": null,
   "id": "e3a03e91",
   "metadata": {
    "ExecuteTime": {
     "end_time": "2021-06-15T08:09:48.323705Z",
     "start_time": "2021-06-15T08:09:48.007277Z"
    }
   },
   "outputs": [],
   "source": []
  },
  {
   "cell_type": "markdown",
   "id": "816d590c",
   "metadata": {},
   "source": [
    "**문제6** 행정구별 학교수의 비율 그래프를 그려라. 단, 그래프의 크기는 10 * 10로 설정하여라."
   ]
  },
  {
   "cell_type": "code",
   "execution_count": null,
   "id": "8282b356",
   "metadata": {
    "ExecuteTime": {
     "end_time": "2021-06-15T08:09:48.587873Z",
     "start_time": "2021-06-15T08:09:48.327405Z"
    }
   },
   "outputs": [],
   "source": []
  },
  {
   "cell_type": "code",
   "execution_count": null,
   "id": "405bd600",
   "metadata": {},
   "outputs": [],
   "source": []
  }
 ],
 "metadata": {
  "hide_input": false,
  "kernelspec": {
   "display_name": "Python 3",
   "language": "python",
   "name": "python3"
  },
  "language_info": {
   "codemirror_mode": {
    "name": "ipython",
    "version": 3
   },
   "file_extension": ".py",
   "mimetype": "text/x-python",
   "name": "python",
   "nbconvert_exporter": "python",
   "pygments_lexer": "ipython3",
   "version": "3.7.7"
  },
  "nbTranslate": {
   "displayLangs": [
    "*"
   ],
   "hotkey": "alt-t",
   "langInMainMenu": true,
   "sourceLang": "en",
   "targetLang": "fr",
   "useGoogleTranslate": true
  },
  "toc": {
   "base_numbering": 1,
   "nav_menu": {},
   "number_sections": true,
   "sideBar": true,
   "skip_h1_title": false,
   "title_cell": "Table of Contents",
   "title_sidebar": "Contents",
   "toc_cell": false,
   "toc_position": {},
   "toc_section_display": true,
   "toc_window_display": false
  },
  "varInspector": {
   "cols": {
    "lenName": 16,
    "lenType": 16,
    "lenVar": 40
   },
   "kernels_config": {
    "python": {
     "delete_cmd_postfix": "",
     "delete_cmd_prefix": "del ",
     "library": "var_list.py",
     "varRefreshCmd": "print(var_dic_list())"
    },
    "r": {
     "delete_cmd_postfix": ") ",
     "delete_cmd_prefix": "rm(",
     "library": "var_list.r",
     "varRefreshCmd": "cat(var_dic_list()) "
    }
   },
   "types_to_exclude": [
    "module",
    "function",
    "builtin_function_or_method",
    "instance",
    "_Feature"
   ],
   "window_display": false
  }
 },
 "nbformat": 4,
 "nbformat_minor": 5
}
